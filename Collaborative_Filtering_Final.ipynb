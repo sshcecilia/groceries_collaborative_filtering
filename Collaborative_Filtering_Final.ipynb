{
  "cells": [
    {
      "cell_type": "markdown",
      "metadata": {
        "id": "view-in-github",
        "colab_type": "text"
      },
      "source": [
        "<a href=\"https://colab.research.google.com/github/sshcecilia/groceries_collaborative_filtering/blob/main/Collaborative_Filtering_Final.ipynb\" target=\"_parent\"><img src=\"https://colab.research.google.com/assets/colab-badge.svg\" alt=\"Open In Colab\"/></a>"
      ]
    },
    {
      "cell_type": "code",
      "execution_count": null,
      "metadata": {
        "id": "K6fb5me45Vsr"
      },
      "outputs": [],
      "source": [
        "!pip install -U -q PyDrive2\n",
        "from pydrive2.auth import GoogleAuth\n",
        "from pydrive2.drive import GoogleDrive\n",
        "from google.colab import auth\n",
        "from oauth2client.client import GoogleCredentials\n",
        "auth.authenticate_user()\n",
        "gauth = GoogleAuth()\n",
        "gauth.credentials = GoogleCredentials.get_application_default()\n",
        "drive = GoogleDrive(gauth)"
      ]
    },
    {
      "cell_type": "code",
      "execution_count": null,
      "metadata": {
        "id": "0d_8w34L5Y7E"
      },
      "outputs": [],
      "source": [
        "import warnings\n",
        "warnings.filterwarnings('ignore')\n",
        "import pandas as pd\n",
        "import numpy as np"
      ]
    },
    {
      "cell_type": "markdown",
      "metadata": {
        "id": "X171rgN3CgPe"
      },
      "source": [
        "# Load Data"
      ]
    },
    {
      "cell_type": "code",
      "execution_count": null,
      "metadata": {
        "id": "odB1X3m2CfJM"
      },
      "outputs": [],
      "source": [
        "files = [\n",
        "    ['aisles.csv', 'https://drive.google.com/file/d/1o4IG9y5C_pxi-pY5FcSqdTdSU2B5F9UJ/view?usp=drive_link']\n",
        "    , ['departments.csv', 'https://drive.google.com/file/d/1stMu6xE4w0-9Z60VO2jeU3J8L26MoPt4/view?usp=drive_link']\n",
        "    , ['order_products__prior.csv', 'https://drive.google.com/file/d/1XL5O-hgwjFq8j0UVbp28R7P3bmVeKieQ/view?usp=drive_link']\n",
        "    , ['order_products__train.csv', 'https://drive.google.com/file/d/1Ux-mH_t5LCnbpiTXld3lJmVKQrAyxe-J/view?usp=drive_link']\n",
        "    , ['orders.csv', 'https://drive.google.com/file/d/12-Imqn-f7qnjRKbYCHWwK1LuSvX2c9cf/view?usp=drive_link']\n",
        "    , ['products.csv', 'https://drive.google.com/file/d/1zfEVroXVByALZka7tEghJBo1QLMHZcQk/view?usp=drive_link']\n",
        "    , ['users_productname_mix_df_prior_1.csv', 'https://drive.google.com/file/d/1-7j_W48lTqLpelnGi6hgAEO0_prz46nQ/view?usp=drive_link']\n",
        "    , ['users_productname_mix_df_prior_2.csv', 'https://drive.google.com/file/d/1w9lWFllzAoz6a7W9FrOpQfWHsZluCkXk/view?usp=drive_link']\n",
        "    , ['users_productname_mix_df_prior_3.csv', 'https://drive.google.com/file/d/1EHIBqbrefd9IqUBCmV8iY1nJcoVv81OD/view?usp=drive_link']\n",
        "    , ['users_productname_mix_df_prior_4.csv', 'https://drive.google.com/file/d/19pDwwSHsbaDkTMb7egv1VPOlnpDPZRXV/view?usp=drive_link']\n",
        "    , ['users_productname_mix_df_prior_5.csv', 'https://drive.google.com/file/d/1PAm-m29Pv34gNEUNAGmMznh8qD_xHdF4/view?usp=drive_link']\n",
        "    , ['user_mix_cluster.csv', 'https://drive.google.com/file/d/1-3hVZ3deNBbtjElkMz2BhAQPOjaCR7F1/view?usp=sharing']\n",
        "    , ['user_timecat_mix_cluster.csv', 'https://drive.google.com/file/d/1-4hU9c7_7iq2k1TmYfM6k43didwiC0B3/view?usp=drive_link']\n",
        "    , ['user_tow_deptname_mix_pivot_cluster.csv', 'https://drive.google.com/file/d/1-IjVrlF4WjdFvztclVQIonqIIHZQ00Fa/view?usp=sharing']\n",
        "]"
      ]
    },
    {
      "cell_type": "code",
      "execution_count": null,
      "metadata": {
        "colab": {
          "base_uri": "https://localhost:8080/"
        },
        "id": "b7vN-bIzC4VD",
        "outputId": "0111c95a-8072-4ac6-afd8-d74956424698"
      },
      "outputs": [
        {
          "name": "stdout",
          "output_type": "stream",
          "text": [
            "1o4IG9y5C_pxi-pY5FcSqdTdSU2B5F9UJ\n",
            "1stMu6xE4w0-9Z60VO2jeU3J8L26MoPt4\n",
            "1XL5O-hgwjFq8j0UVbp28R7P3bmVeKieQ\n",
            "1Ux-mH_t5LCnbpiTXld3lJmVKQrAyxe-J\n",
            "12-Imqn-f7qnjRKbYCHWwK1LuSvX2c9cf\n",
            "1zfEVroXVByALZka7tEghJBo1QLMHZcQk\n",
            "1-7j_W48lTqLpelnGi6hgAEO0_prz46nQ\n",
            "1w9lWFllzAoz6a7W9FrOpQfWHsZluCkXk\n",
            "1EHIBqbrefd9IqUBCmV8iY1nJcoVv81OD\n",
            "19pDwwSHsbaDkTMb7egv1VPOlnpDPZRXV\n",
            "1PAm-m29Pv34gNEUNAGmMznh8qD_xHdF4\n",
            "1-3hVZ3deNBbtjElkMz2BhAQPOjaCR7F1\n",
            "1-4hU9c7_7iq2k1TmYfM6k43didwiC0B3\n",
            "1-IjVrlF4WjdFvztclVQIonqIIHZQ00Fa\n"
          ]
        }
      ],
      "source": [
        "for i in files:\n",
        "    link = i[1]\n",
        "    fluff, id = link.split('/d/')\n",
        "    id, fluff = id.split('/')\n",
        "    print (id) # Verify that you have everything after '='\n",
        "    downloaded = drive.CreateFile({'id':id})\n",
        "    downloaded.GetContentFile(i[0])"
      ]
    },
    {
      "cell_type": "markdown",
      "metadata": {
        "id": "-fVatdsNJfr8"
      },
      "source": [
        "# Preparing Data in the Required Format"
      ]
    },
    {
      "cell_type": "markdown",
      "metadata": {
        "id": "pFP9hUMKRacY"
      },
      "source": [
        "## Installing PySpark"
      ]
    },
    {
      "cell_type": "code",
      "execution_count": null,
      "metadata": {
        "colab": {
          "base_uri": "https://localhost:8080/"
        },
        "id": "Z6gnLZ3dI_wq",
        "outputId": "ce8f4f80-66d1-4685-98d7-fa3f4bef9245"
      },
      "outputs": [
        {
          "name": "stdout",
          "output_type": "stream",
          "text": [
            "\r",
            "0% [Working]\r",
            "            \r",
            "Hit:1 https://developer.download.nvidia.com/compute/cuda/repos/ubuntu2204/x86_64  InRelease\n",
            "\r",
            "0% [Connecting to archive.ubuntu.com (185.125.190.36)] [Waiting for headers] [Waiting for headers] [\r",
            "                                                                                                    \r",
            "Hit:2 https://cloud.r-project.org/bin/linux/ubuntu jammy-cran40/ InRelease\n",
            "\r",
            "0% [Connecting to archive.ubuntu.com (185.125.190.36)] [Waiting for headers] [Connected to ppa.launc\r",
            "                                                                                                    \r",
            "Hit:3 http://security.ubuntu.com/ubuntu jammy-security InRelease\n",
            "Hit:4 http://archive.ubuntu.com/ubuntu jammy InRelease\n",
            "Hit:5 http://archive.ubuntu.com/ubuntu jammy-updates InRelease\n",
            "Hit:6 http://archive.ubuntu.com/ubuntu jammy-backports InRelease\n",
            "Hit:7 https://ppa.launchpadcontent.net/c2d4u.team/c2d4u4.0+/ubuntu jammy InRelease\n",
            "Hit:8 https://ppa.launchpadcontent.net/deadsnakes/ppa/ubuntu jammy InRelease\n",
            "Hit:9 https://ppa.launchpadcontent.net/graphics-drivers/ppa/ubuntu jammy InRelease\n",
            "Hit:10 https://ppa.launchpadcontent.net/ubuntugis/ppa/ubuntu jammy InRelease\n",
            "Reading package lists... Done\n",
            "Requirement already satisfied: pyspark in /usr/local/lib/python3.10/dist-packages (3.5.1)\n",
            "Requirement already satisfied: py4j==0.10.9.7 in /usr/local/lib/python3.10/dist-packages (from pyspark) (0.10.9.7)\n"
          ]
        }
      ],
      "source": [
        "!apt-get update # Update apt-get repository.\n",
        "!apt-get install openjdk-8-jdk-headless -qq > /dev/null # Install Java.\n",
        "!pip install -q findspark # Install findspark. Adds PySpark to the System path during runtime.\n",
        "!pip install pyspark"
      ]
    },
    {
      "cell_type": "code",
      "execution_count": null,
      "metadata": {
        "id": "fM14rXLEKTJ5"
      },
      "outputs": [],
      "source": [
        "import os\n",
        "os.environ[\"JAVA_HOME\"] = \"/usr/lib/jvm/java-8-openjdk-amd64\"\n",
        "\n",
        "import findspark\n",
        "findspark.init()"
      ]
    },
    {
      "cell_type": "code",
      "execution_count": null,
      "metadata": {
        "colab": {
          "base_uri": "https://localhost:8080/",
          "height": 222
        },
        "id": "957bhXrlO-4d",
        "outputId": "b45aa298-7385-438c-e0b3-6cf2de330270"
      },
      "outputs": [
        {
          "data": {
            "text/html": [
              "\n",
              "            <div>\n",
              "                <p><b>SparkSession - in-memory</b></p>\n",
              "                \n",
              "        <div>\n",
              "            <p><b>SparkContext</b></p>\n",
              "\n",
              "            <p><a href=\"http://5d86b1dfaa6e:4040\">Spark UI</a></p>\n",
              "\n",
              "            <dl>\n",
              "              <dt>Version</dt>\n",
              "                <dd><code>v3.5.1</code></dd>\n",
              "              <dt>Master</dt>\n",
              "                <dd><code>local[*]</code></dd>\n",
              "              <dt>AppName</dt>\n",
              "                <dd><code>Clustering</code></dd>\n",
              "            </dl>\n",
              "        </div>\n",
              "        \n",
              "            </div>\n",
              "        "
            ],
            "text/plain": [
              "<pyspark.sql.session.SparkSession at 0x7fd8da8876a0>"
            ]
          },
          "execution_count": 8,
          "metadata": {},
          "output_type": "execute_result"
        }
      ],
      "source": [
        "from pyspark import SparkConf, SparkContext\n",
        "from pyspark.sql import SparkSession\n",
        "\n",
        "conf = SparkConf().setAppName(\"Clustering\")\n",
        "sc = SparkContext(conf=conf)\n",
        "spark = SparkSession(sc)\n",
        "spark"
      ]
    },
    {
      "cell_type": "markdown",
      "metadata": {
        "id": "yCnglPHaRhiQ"
      },
      "source": [
        "## Read Data into RDD"
      ]
    },
    {
      "cell_type": "code",
      "execution_count": null,
      "metadata": {
        "id": "Z2GENb2nOunY"
      },
      "outputs": [],
      "source": [
        "aisles_rdd = spark.read.csv('aisles.csv', header=True).rdd\n",
        "departments_rdd = spark.read.csv('departments.csv', header=True).rdd\n",
        "order_products_prior_rdd = spark.read.csv('order_products__prior.csv', header=True).rdd\n",
        "order_products_train_rdd = spark.read.csv('order_products__train.csv', header=True).rdd\n",
        "orders_rdd = spark.read.csv('orders.csv', header=True).rdd\n",
        "products_rdd = spark.read.csv('products.csv', header=True).rdd"
      ]
    },
    {
      "cell_type": "markdown",
      "metadata": {
        "id": "dkjuYmDov1Hm"
      },
      "source": [
        "Products table needs to read into pandas dataframe before converting to RDD as one of the product name has ',' in it, resulting in wrong values extracted for aisle_id and department_id when read directly into RDD."
      ]
    },
    {
      "cell_type": "code",
      "execution_count": null,
      "metadata": {
        "id": "JJLc5IzNlFLA"
      },
      "outputs": [],
      "source": [
        "products = pd.read_csv('products.csv')\n",
        "productsDF = spark.createDataFrame(products)\n",
        "products_rdd = productsDF.rdd"
      ]
    },
    {
      "cell_type": "code",
      "execution_count": null,
      "metadata": {
        "colab": {
          "base_uri": "https://localhost:8080/"
        },
        "id": "xGrg11fYPNTy",
        "outputId": "b4b60ceb-c6af-4426-cc49-ee485bc9b8f5"
      },
      "outputs": [
        {
          "data": {
            "text/plain": [
              "[Row(aisle_id='1', aisle='prepared soups salads'),\n",
              " Row(aisle_id='2', aisle='specialty cheeses'),\n",
              " Row(aisle_id='3', aisle='energy granola bars'),\n",
              " Row(aisle_id='4', aisle='instant foods'),\n",
              " Row(aisle_id='5', aisle='marinades meat preparation')]"
            ]
          },
          "execution_count": 10,
          "metadata": {},
          "output_type": "execute_result"
        }
      ],
      "source": [
        "aisles_rdd.take(5)"
      ]
    },
    {
      "cell_type": "code",
      "execution_count": null,
      "metadata": {
        "colab": {
          "base_uri": "https://localhost:8080/"
        },
        "id": "xm8XMfMMQYiX",
        "outputId": "16586afb-1257-419c-8ca4-a17e1385126b"
      },
      "outputs": [
        {
          "data": {
            "text/plain": [
              "[Row(department_id='1', department='frozen'),\n",
              " Row(department_id='2', department='other'),\n",
              " Row(department_id='3', department='bakery'),\n",
              " Row(department_id='4', department='produce'),\n",
              " Row(department_id='5', department='alcohol')]"
            ]
          },
          "execution_count": 11,
          "metadata": {},
          "output_type": "execute_result"
        }
      ],
      "source": [
        "departments_rdd.take(5)"
      ]
    },
    {
      "cell_type": "code",
      "execution_count": null,
      "metadata": {
        "colab": {
          "base_uri": "https://localhost:8080/"
        },
        "id": "0H1vJv7aQueu",
        "outputId": "68715b09-63ba-47ae-83ee-00ebffc60a47"
      },
      "outputs": [
        {
          "data": {
            "text/plain": [
              "[Row(order_id='2', product_id='33120', add_to_cart_order='1', reordered='1'),\n",
              " Row(order_id='2', product_id='28985', add_to_cart_order='2', reordered='1'),\n",
              " Row(order_id='2', product_id='9327', add_to_cart_order='3', reordered='0'),\n",
              " Row(order_id='2', product_id='45918', add_to_cart_order='4', reordered='1'),\n",
              " Row(order_id='2', product_id='30035', add_to_cart_order='5', reordered='0')]"
            ]
          },
          "execution_count": 12,
          "metadata": {},
          "output_type": "execute_result"
        }
      ],
      "source": [
        "order_products_prior_rdd.take(5)"
      ]
    },
    {
      "cell_type": "code",
      "execution_count": null,
      "metadata": {
        "colab": {
          "base_uri": "https://localhost:8080/"
        },
        "id": "juiLH3XVUeVy",
        "outputId": "990ef82a-7291-4885-8246-b63a6af4a015"
      },
      "outputs": [
        {
          "name": "stdout",
          "output_type": "stream",
          "text": [
            "5\n"
          ]
        }
      ],
      "source": [
        "print(order_products_prior_rdd.getNumPartitions())\n",
        "order_products_prior_rdd = order_products_prior_rdd.repartition(16)"
      ]
    },
    {
      "cell_type": "code",
      "execution_count": null,
      "metadata": {
        "colab": {
          "base_uri": "https://localhost:8080/"
        },
        "id": "jbCBAO9lQ0h7",
        "outputId": "4d1abddd-1368-4d35-85cb-90eae75c51a4"
      },
      "outputs": [
        {
          "data": {
            "text/plain": [
              "[Row(order_id='1', product_id='49302', add_to_cart_order='1', reordered='1'),\n",
              " Row(order_id='1', product_id='11109', add_to_cart_order='2', reordered='1'),\n",
              " Row(order_id='1', product_id='10246', add_to_cart_order='3', reordered='0'),\n",
              " Row(order_id='1', product_id='49683', add_to_cart_order='4', reordered='0'),\n",
              " Row(order_id='1', product_id='43633', add_to_cart_order='5', reordered='1')]"
            ]
          },
          "execution_count": 14,
          "metadata": {},
          "output_type": "execute_result"
        }
      ],
      "source": [
        "order_products_train_rdd.take(5)"
      ]
    },
    {
      "cell_type": "code",
      "execution_count": null,
      "metadata": {
        "colab": {
          "base_uri": "https://localhost:8080/"
        },
        "id": "S_5sPNV0QXkN",
        "outputId": "0d2cb010-708c-4054-9e62-1df2603dbb81"
      },
      "outputs": [
        {
          "name": "stdout",
          "output_type": "stream",
          "text": [
            "2\n"
          ]
        }
      ],
      "source": [
        "print(order_products_train_rdd.getNumPartitions())\n",
        "order_products_train_rdd = order_products_train_rdd.repartition(16)"
      ]
    },
    {
      "cell_type": "code",
      "execution_count": null,
      "metadata": {
        "colab": {
          "base_uri": "https://localhost:8080/"
        },
        "id": "cREBg63RQ2y5",
        "outputId": "718bbd89-2bc2-4a7c-9c8c-551883cbcf61"
      },
      "outputs": [
        {
          "data": {
            "text/plain": [
              "[Row(order_id='2539329', user_id='1', eval_set='prior', order_number='1', order_dow='2', order_hour_of_day='08', days_since_prior_order=None),\n",
              " Row(order_id='2398795', user_id='1', eval_set='prior', order_number='2', order_dow='3', order_hour_of_day='07', days_since_prior_order='15.0'),\n",
              " Row(order_id='473747', user_id='1', eval_set='prior', order_number='3', order_dow='3', order_hour_of_day='12', days_since_prior_order='21.0'),\n",
              " Row(order_id='2254736', user_id='1', eval_set='prior', order_number='4', order_dow='4', order_hour_of_day='07', days_since_prior_order='29.0'),\n",
              " Row(order_id='431534', user_id='1', eval_set='prior', order_number='5', order_dow='4', order_hour_of_day='15', days_since_prior_order='28.0')]"
            ]
          },
          "execution_count": 16,
          "metadata": {},
          "output_type": "execute_result"
        }
      ],
      "source": [
        "orders_rdd.take(5)"
      ]
    },
    {
      "cell_type": "code",
      "execution_count": null,
      "metadata": {
        "colab": {
          "base_uri": "https://localhost:8080/"
        },
        "id": "P8mIbSc7Q41A",
        "outputId": "7234c2a0-3cf3-4ada-c27a-d2d31f8f41db"
      },
      "outputs": [
        {
          "data": {
            "text/plain": [
              "[Row(product_id=1, product_name='Chocolate Sandwich Cookies', aisle_id=61, department_id=19),\n",
              " Row(product_id=2, product_name='All-Seasons Salt', aisle_id=104, department_id=13),\n",
              " Row(product_id=3, product_name='Robust Golden Unsweetened Oolong Tea', aisle_id=94, department_id=7),\n",
              " Row(product_id=4, product_name='Smart Ones Classic Favorites Mini Rigatoni With Vodka Cream Sauce', aisle_id=38, department_id=1),\n",
              " Row(product_id=5, product_name='Green Chile Anytime Sauce', aisle_id=5, department_id=13)]"
            ]
          },
          "execution_count": 17,
          "metadata": {},
          "output_type": "execute_result"
        }
      ],
      "source": [
        "products_rdd.take(5)"
      ]
    },
    {
      "cell_type": "code",
      "execution_count": null,
      "metadata": {
        "colab": {
          "base_uri": "https://localhost:8080/"
        },
        "id": "FuiGxTVnTy8s",
        "outputId": "9a2fec6d-4247-4f3e-9f7a-75c2d0c98701"
      },
      "outputs": [
        {
          "data": {
            "text/plain": [
              "[Row(order_id='2539329', user_id='1', eval_set='prior', order_number='1', order_dow='2', order_hour_of_day='08', days_since_prior_order=None),\n",
              " Row(order_id='2398795', user_id='1', eval_set='prior', order_number='2', order_dow='3', order_hour_of_day='07', days_since_prior_order='15.0'),\n",
              " Row(order_id='473747', user_id='1', eval_set='prior', order_number='3', order_dow='3', order_hour_of_day='12', days_since_prior_order='21.0'),\n",
              " Row(order_id='2254736', user_id='1', eval_set='prior', order_number='4', order_dow='4', order_hour_of_day='07', days_since_prior_order='29.0'),\n",
              " Row(order_id='431534', user_id='1', eval_set='prior', order_number='5', order_dow='4', order_hour_of_day='15', days_since_prior_order='28.0')]"
            ]
          },
          "execution_count": 18,
          "metadata": {},
          "output_type": "execute_result"
        }
      ],
      "source": [
        "orders_prior_rdd = orders_rdd.filter(lambda x: x['eval_set'] == 'prior')\n",
        "orders_prior_rdd.take(5)"
      ]
    },
    {
      "cell_type": "code",
      "execution_count": null,
      "metadata": {
        "colab": {
          "base_uri": "https://localhost:8080/"
        },
        "id": "cCSITKHUTbjq",
        "outputId": "6b43e1a3-1527-4d6a-ef41-49558020fc5e"
      },
      "outputs": [
        {
          "data": {
            "text/plain": [
              "[Row(order_id='1187899', user_id='1', eval_set='train', order_number='11', order_dow='4', order_hour_of_day='08', days_since_prior_order='14.0'),\n",
              " Row(order_id='1492625', user_id='2', eval_set='train', order_number='15', order_dow='1', order_hour_of_day='11', days_since_prior_order='30.0'),\n",
              " Row(order_id='2196797', user_id='5', eval_set='train', order_number='5', order_dow='0', order_hour_of_day='11', days_since_prior_order='6.0'),\n",
              " Row(order_id='525192', user_id='7', eval_set='train', order_number='21', order_dow='2', order_hour_of_day='11', days_since_prior_order='6.0'),\n",
              " Row(order_id='880375', user_id='8', eval_set='train', order_number='4', order_dow='1', order_hour_of_day='14', days_since_prior_order='10.0')]"
            ]
          },
          "execution_count": 19,
          "metadata": {},
          "output_type": "execute_result"
        }
      ],
      "source": [
        "orders_train_rdd = orders_rdd.filter(lambda x: x['eval_set'] == 'train')\n",
        "orders_train_rdd.take(5)"
      ]
    },
    {
      "cell_type": "markdown",
      "metadata": {
        "id": "Kgq2awpIgQDZ"
      },
      "source": [
        "## Preparing Data for Collaborative Filtering"
      ]
    },
    {
      "cell_type": "code",
      "execution_count": null,
      "metadata": {
        "colab": {
          "base_uri": "https://localhost:8080/"
        },
        "id": "ib88KhtAchGr",
        "outputId": "7f82a46b-3d9a-4543-d766-1c1764aa3d5c"
      },
      "outputs": [
        {
          "data": {
            "text/plain": [
              "[('106', ('4210', '161214')),\n",
              " ('106', ('11210', '161214')),\n",
              " ('106', ('2839', '161214')),\n",
              " ('106', ('19836', '161214')),\n",
              " ('106', ('49505', '161214'))]"
            ]
          },
          "execution_count": 20,
          "metadata": {},
          "output_type": "execute_result"
        }
      ],
      "source": [
        "order_products_users = order_products_prior_rdd.map(lambda x: (x['order_id'], x['product_id'])).join(orders_prior_rdd.map(lambda x: (x['order_id'], x['user_id'])))\n",
        "order_products_users.take(5)"
      ]
    },
    {
      "cell_type": "code",
      "execution_count": null,
      "metadata": {
        "colab": {
          "base_uri": "https://localhost:8080/"
        },
        "id": "JC4ulJ3mdrSP",
        "outputId": "805ec858-a67c-456d-f65f-f7ca20efa4da"
      },
      "outputs": [
        {
          "data": {
            "text/plain": [
              "[(('188517', '25890'), 18),\n",
              " (('108181', '8733'), 8),\n",
              " (('95262', '48171'), 2),\n",
              " (('63160', '19794'), 1),\n",
              " (('165076', '41290'), 42)]"
            ]
          },
          "execution_count": 21,
          "metadata": {},
          "output_type": "execute_result"
        }
      ],
      "source": [
        "users_products_qty = order_products_users.map(lambda x: ((x[1][1], x[1][0]), (1))).reduceByKey(lambda x,y: x+y)\n",
        "users_products_qty.take(5)"
      ]
    },
    {
      "cell_type": "code",
      "execution_count": null,
      "metadata": {
        "colab": {
          "base_uri": "https://localhost:8080/"
        },
        "id": "pmyY679B9Ggx",
        "outputId": "b7860137-527c-412f-e092-304d7703f864"
      },
      "outputs": [
        {
          "data": {
            "text/plain": [
              "[('183139', 540),\n",
              " ('68215', 338),\n",
              " ('21944', 1142),\n",
              " ('110549', 250),\n",
              " ('127991', 335)]"
            ]
          },
          "execution_count": 22,
          "metadata": {},
          "output_type": "execute_result"
        }
      ],
      "source": [
        "users_products_ttlqty = users_products_qty.map(lambda x: (x[0][0], x[1])).reduceByKey(lambda x,y: x+y)\n",
        "users_products_ttlqty.take(5)"
      ]
    },
    {
      "cell_type": "code",
      "execution_count": null,
      "metadata": {
        "colab": {
          "base_uri": "https://localhost:8080/"
        },
        "id": "DJC7SWer9itY",
        "outputId": "7f6cfb3f-0314-4f41-e94f-eb8be91912ef"
      },
      "outputs": [
        {
          "data": {
            "text/plain": [
              "[('21944', (('39190', 7), 1142)),\n",
              " ('21944', (('39332', 19), 1142)),\n",
              " ('21944', (('42828', 9), 1142)),\n",
              " ('21944', (('47209', 25), 1142)),\n",
              " ('21944', (('19006', 6), 1142))]"
            ]
          },
          "execution_count": 23,
          "metadata": {},
          "output_type": "execute_result"
        }
      ],
      "source": [
        "users_products_mix = users_products_qty.map(lambda x: (x[0][0], (x[0][1], x[1]))).join(users_products_ttlqty)\n",
        "users_products_mix.take(5)"
      ]
    },
    {
      "cell_type": "code",
      "execution_count": null,
      "metadata": {
        "colab": {
          "base_uri": "https://localhost:8080/"
        },
        "id": "ucwxjbwGeGqt",
        "outputId": "59ba274c-7642-428b-d154-5820168a8a6c"
      },
      "outputs": [
        {
          "data": {
            "text/plain": [
              "[(47766, (('21944', 0.0008756567425569177), 'Organic Avocado')),\n",
              " (47766, (('33730', 0.006535947712418301), 'Organic Avocado')),\n",
              " (47766, (('47849', 0.004158004158004158), 'Organic Avocado')),\n",
              " (47766, (('1531', 0.0081799591002045), 'Organic Avocado')),\n",
              " (47766, (('60939', 0.012276785714285714), 'Organic Avocado'))]"
            ]
          },
          "execution_count": 25,
          "metadata": {},
          "output_type": "execute_result"
        }
      ],
      "source": [
        "users_products_mix = users_products_qty.map(lambda x: (x[0][0], (x[0][1], x[1]))).join(users_products_ttlqty)\n",
        "users_products_mix = users_products_mix.map(lambda x: (int(x[1][0][0]), (x[0], x[1][0][1]/x[1][1]))).join(products_rdd.map(lambda x: (x['product_id'], x['product_name'])))\n",
        "users_products_mix.take(5)"
      ]
    },
    {
      "cell_type": "code",
      "execution_count": null,
      "metadata": {
        "colab": {
          "base_uri": "https://localhost:8080/"
        },
        "id": "AXKXaLTafc0a",
        "outputId": "dccf9dca-1df9-4d26-8ac4-9daa37d141a4",
        "scrolled": true
      },
      "outputs": [
        {
          "data": {
            "text/plain": [
              "[('21944', 47766, 'Organic Avocado', 0.0008756567425569177),\n",
              " ('33730', 47766, 'Organic Avocado', 0.006535947712418301),\n",
              " ('47849', 47766, 'Organic Avocado', 0.004158004158004158),\n",
              " ('1531', 47766, 'Organic Avocado', 0.0081799591002045),\n",
              " ('60939', 47766, 'Organic Avocado', 0.012276785714285714)]"
            ]
          },
          "execution_count": 26,
          "metadata": {},
          "output_type": "execute_result"
        }
      ],
      "source": [
        "users_productname_mix = users_products_mix.map(lambda x: (x[1][0][0], x[0], x[1][1], x[1][0][1]))\n",
        "users_productname_mix.take(5)"
      ]
    },
    {
      "cell_type": "markdown",
      "metadata": {
        "id": "ApKlP_AIIE00"
      },
      "source": [
        "## Save the Files in Chunks"
      ]
    },
    {
      "cell_type": "code",
      "execution_count": null,
      "metadata": {
        "id": "kRgrmynwnc-v"
      },
      "outputs": [],
      "source": [
        "item_num = users_productname_mix.map(lambda x: x[1]).distinct().collect()"
      ]
    },
    {
      "cell_type": "code",
      "execution_count": null,
      "metadata": {
        "id": "G-mM7YAnnkZB"
      },
      "outputs": [],
      "source": [
        "def chunks(chunk, n):\n",
        "    for i in range(0, len(chunk), n):\n",
        "        yield chunk[i:i + n]"
      ]
    },
    {
      "cell_type": "code",
      "execution_count": null,
      "metadata": {
        "colab": {
          "base_uri": "https://localhost:8080/"
        },
        "id": "n-XxKVNgokbP",
        "outputId": "5612fe08-3fa2-420f-fd20-228a7bc332e6"
      },
      "outputs": [
        {
          "name": "stdout",
          "output_type": "stream",
          "text": [
            "1\n",
            "2\n",
            "3\n",
            "4\n",
            "5\n"
          ]
        }
      ],
      "source": [
        "j = 1\n",
        "for i in chunks(item_num, 10000):\n",
        "    print(j)\n",
        "    data_rdd = users_productname_mix.filter(lambda x: x[1] in i)\n",
        "    data_df = data_rdd.toDF().toPandas()\n",
        "    data_df = data_df.rename(columns={'_1': 'user_id', '_2': 'product_id', '_3':'product', '_4':'mix'})\n",
        "    data_df.to_csv('users_productname_mix_df_prior_' + str(j) + '.csv', index = False)\n",
        "    j += 1"
      ]
    },
    {
      "cell_type": "markdown",
      "metadata": {
        "id": "OTBIsQxkpUSv"
      },
      "source": [
        "# User Based Collaborative Filtering"
      ]
    },
    {
      "cell_type": "code",
      "execution_count": null,
      "metadata": {
        "colab": {
          "base_uri": "https://localhost:8080/"
        },
        "id": "py30pZwke7rD",
        "outputId": "ab98865d-69f0-47b7-ad87-9198022f89bc"
      },
      "outputs": [
        {
          "name": "stdout",
          "output_type": "stream",
          "text": [
            "users_productname_mix_df_prior_2.csv\n",
            "users_productname_mix_df_prior_3.csv\n",
            "users_productname_mix_df_prior_4.csv\n",
            "users_productname_mix_df_prior_5.csv\n"
          ]
        }
      ],
      "source": [
        "users_productname_mix_df = pd.read_csv('users_productname_mix_df_prior_1.csv')\n",
        "\n",
        "for i in range(4):\n",
        "    print('users_productname_mix_df_prior_' + str(i+2) + '.csv')\n",
        "    df = pd.read_csv('users_productname_mix_df_prior_' + str(i+2) + '.csv')\n",
        "    users_productname_mix_df = users_productname_mix_df.append(df, ignore_index=True)"
      ]
    },
    {
      "cell_type": "code",
      "execution_count": null,
      "metadata": {
        "colab": {
          "base_uri": "https://localhost:8080/",
          "height": 206
        },
        "id": "tbVxnP35XgyC",
        "outputId": "de66cd90-1a29-4851-a1ef-f8dc191d3205"
      },
      "outputs": [
        {
          "data": {
            "application/vnd.google.colaboratory.intrinsic+json": {
              "type": "dataframe",
              "variable_name": "users_productname_mix_df"
            },
            "text/html": [
              "\n",
              "  <div id=\"df-b6225e35-ed8c-4608-a31f-c95a5ef64a41\" class=\"colab-df-container\">\n",
              "    <div>\n",
              "<style scoped>\n",
              "    .dataframe tbody tr th:only-of-type {\n",
              "        vertical-align: middle;\n",
              "    }\n",
              "\n",
              "    .dataframe tbody tr th {\n",
              "        vertical-align: top;\n",
              "    }\n",
              "\n",
              "    .dataframe thead th {\n",
              "        text-align: right;\n",
              "    }\n",
              "</style>\n",
              "<table border=\"1\" class=\"dataframe\">\n",
              "  <thead>\n",
              "    <tr style=\"text-align: right;\">\n",
              "      <th></th>\n",
              "      <th>user_id</th>\n",
              "      <th>product_id</th>\n",
              "      <th>product</th>\n",
              "      <th>mix</th>\n",
              "    </tr>\n",
              "  </thead>\n",
              "  <tbody>\n",
              "    <tr>\n",
              "      <th>0</th>\n",
              "      <td>21944</td>\n",
              "      <td>47766</td>\n",
              "      <td>Organic Avocado</td>\n",
              "      <td>0.000876</td>\n",
              "    </tr>\n",
              "    <tr>\n",
              "      <th>1</th>\n",
              "      <td>33730</td>\n",
              "      <td>47766</td>\n",
              "      <td>Organic Avocado</td>\n",
              "      <td>0.006536</td>\n",
              "    </tr>\n",
              "    <tr>\n",
              "      <th>2</th>\n",
              "      <td>47849</td>\n",
              "      <td>47766</td>\n",
              "      <td>Organic Avocado</td>\n",
              "      <td>0.004158</td>\n",
              "    </tr>\n",
              "    <tr>\n",
              "      <th>3</th>\n",
              "      <td>1531</td>\n",
              "      <td>47766</td>\n",
              "      <td>Organic Avocado</td>\n",
              "      <td>0.008180</td>\n",
              "    </tr>\n",
              "    <tr>\n",
              "      <th>4</th>\n",
              "      <td>60939</td>\n",
              "      <td>47766</td>\n",
              "      <td>Organic Avocado</td>\n",
              "      <td>0.012277</td>\n",
              "    </tr>\n",
              "  </tbody>\n",
              "</table>\n",
              "</div>\n",
              "    <div class=\"colab-df-buttons\">\n",
              "\n",
              "  <div class=\"colab-df-container\">\n",
              "    <button class=\"colab-df-convert\" onclick=\"convertToInteractive('df-b6225e35-ed8c-4608-a31f-c95a5ef64a41')\"\n",
              "            title=\"Convert this dataframe to an interactive table.\"\n",
              "            style=\"display:none;\">\n",
              "\n",
              "  <svg xmlns=\"http://www.w3.org/2000/svg\" height=\"24px\" viewBox=\"0 -960 960 960\">\n",
              "    <path d=\"M120-120v-720h720v720H120Zm60-500h600v-160H180v160Zm220 220h160v-160H400v160Zm0 220h160v-160H400v160ZM180-400h160v-160H180v160Zm440 0h160v-160H620v160ZM180-180h160v-160H180v160Zm440 0h160v-160H620v160Z\"/>\n",
              "  </svg>\n",
              "    </button>\n",
              "\n",
              "  <style>\n",
              "    .colab-df-container {\n",
              "      display:flex;\n",
              "      gap: 12px;\n",
              "    }\n",
              "\n",
              "    .colab-df-convert {\n",
              "      background-color: #E8F0FE;\n",
              "      border: none;\n",
              "      border-radius: 50%;\n",
              "      cursor: pointer;\n",
              "      display: none;\n",
              "      fill: #1967D2;\n",
              "      height: 32px;\n",
              "      padding: 0 0 0 0;\n",
              "      width: 32px;\n",
              "    }\n",
              "\n",
              "    .colab-df-convert:hover {\n",
              "      background-color: #E2EBFA;\n",
              "      box-shadow: 0px 1px 2px rgba(60, 64, 67, 0.3), 0px 1px 3px 1px rgba(60, 64, 67, 0.15);\n",
              "      fill: #174EA6;\n",
              "    }\n",
              "\n",
              "    .colab-df-buttons div {\n",
              "      margin-bottom: 4px;\n",
              "    }\n",
              "\n",
              "    [theme=dark] .colab-df-convert {\n",
              "      background-color: #3B4455;\n",
              "      fill: #D2E3FC;\n",
              "    }\n",
              "\n",
              "    [theme=dark] .colab-df-convert:hover {\n",
              "      background-color: #434B5C;\n",
              "      box-shadow: 0px 1px 3px 1px rgba(0, 0, 0, 0.15);\n",
              "      filter: drop-shadow(0px 1px 2px rgba(0, 0, 0, 0.3));\n",
              "      fill: #FFFFFF;\n",
              "    }\n",
              "  </style>\n",
              "\n",
              "    <script>\n",
              "      const buttonEl =\n",
              "        document.querySelector('#df-b6225e35-ed8c-4608-a31f-c95a5ef64a41 button.colab-df-convert');\n",
              "      buttonEl.style.display =\n",
              "        google.colab.kernel.accessAllowed ? 'block' : 'none';\n",
              "\n",
              "      async function convertToInteractive(key) {\n",
              "        const element = document.querySelector('#df-b6225e35-ed8c-4608-a31f-c95a5ef64a41');\n",
              "        const dataTable =\n",
              "          await google.colab.kernel.invokeFunction('convertToInteractive',\n",
              "                                                    [key], {});\n",
              "        if (!dataTable) return;\n",
              "\n",
              "        const docLinkHtml = 'Like what you see? Visit the ' +\n",
              "          '<a target=\"_blank\" href=https://colab.research.google.com/notebooks/data_table.ipynb>data table notebook</a>'\n",
              "          + ' to learn more about interactive tables.';\n",
              "        element.innerHTML = '';\n",
              "        dataTable['output_type'] = 'display_data';\n",
              "        await google.colab.output.renderOutput(dataTable, element);\n",
              "        const docLink = document.createElement('div');\n",
              "        docLink.innerHTML = docLinkHtml;\n",
              "        element.appendChild(docLink);\n",
              "      }\n",
              "    </script>\n",
              "  </div>\n",
              "\n",
              "\n",
              "<div id=\"df-ab21ad31-a6c2-4f0a-97c9-ba209bfe76a9\">\n",
              "  <button class=\"colab-df-quickchart\" onclick=\"quickchart('df-ab21ad31-a6c2-4f0a-97c9-ba209bfe76a9')\"\n",
              "            title=\"Suggest charts\"\n",
              "            style=\"display:none;\">\n",
              "\n",
              "<svg xmlns=\"http://www.w3.org/2000/svg\" height=\"24px\"viewBox=\"0 0 24 24\"\n",
              "     width=\"24px\">\n",
              "    <g>\n",
              "        <path d=\"M19 3H5c-1.1 0-2 .9-2 2v14c0 1.1.9 2 2 2h14c1.1 0 2-.9 2-2V5c0-1.1-.9-2-2-2zM9 17H7v-7h2v7zm4 0h-2V7h2v10zm4 0h-2v-4h2v4z\"/>\n",
              "    </g>\n",
              "</svg>\n",
              "  </button>\n",
              "\n",
              "<style>\n",
              "  .colab-df-quickchart {\n",
              "      --bg-color: #E8F0FE;\n",
              "      --fill-color: #1967D2;\n",
              "      --hover-bg-color: #E2EBFA;\n",
              "      --hover-fill-color: #174EA6;\n",
              "      --disabled-fill-color: #AAA;\n",
              "      --disabled-bg-color: #DDD;\n",
              "  }\n",
              "\n",
              "  [theme=dark] .colab-df-quickchart {\n",
              "      --bg-color: #3B4455;\n",
              "      --fill-color: #D2E3FC;\n",
              "      --hover-bg-color: #434B5C;\n",
              "      --hover-fill-color: #FFFFFF;\n",
              "      --disabled-bg-color: #3B4455;\n",
              "      --disabled-fill-color: #666;\n",
              "  }\n",
              "\n",
              "  .colab-df-quickchart {\n",
              "    background-color: var(--bg-color);\n",
              "    border: none;\n",
              "    border-radius: 50%;\n",
              "    cursor: pointer;\n",
              "    display: none;\n",
              "    fill: var(--fill-color);\n",
              "    height: 32px;\n",
              "    padding: 0;\n",
              "    width: 32px;\n",
              "  }\n",
              "\n",
              "  .colab-df-quickchart:hover {\n",
              "    background-color: var(--hover-bg-color);\n",
              "    box-shadow: 0 1px 2px rgba(60, 64, 67, 0.3), 0 1px 3px 1px rgba(60, 64, 67, 0.15);\n",
              "    fill: var(--button-hover-fill-color);\n",
              "  }\n",
              "\n",
              "  .colab-df-quickchart-complete:disabled,\n",
              "  .colab-df-quickchart-complete:disabled:hover {\n",
              "    background-color: var(--disabled-bg-color);\n",
              "    fill: var(--disabled-fill-color);\n",
              "    box-shadow: none;\n",
              "  }\n",
              "\n",
              "  .colab-df-spinner {\n",
              "    border: 2px solid var(--fill-color);\n",
              "    border-color: transparent;\n",
              "    border-bottom-color: var(--fill-color);\n",
              "    animation:\n",
              "      spin 1s steps(1) infinite;\n",
              "  }\n",
              "\n",
              "  @keyframes spin {\n",
              "    0% {\n",
              "      border-color: transparent;\n",
              "      border-bottom-color: var(--fill-color);\n",
              "      border-left-color: var(--fill-color);\n",
              "    }\n",
              "    20% {\n",
              "      border-color: transparent;\n",
              "      border-left-color: var(--fill-color);\n",
              "      border-top-color: var(--fill-color);\n",
              "    }\n",
              "    30% {\n",
              "      border-color: transparent;\n",
              "      border-left-color: var(--fill-color);\n",
              "      border-top-color: var(--fill-color);\n",
              "      border-right-color: var(--fill-color);\n",
              "    }\n",
              "    40% {\n",
              "      border-color: transparent;\n",
              "      border-right-color: var(--fill-color);\n",
              "      border-top-color: var(--fill-color);\n",
              "    }\n",
              "    60% {\n",
              "      border-color: transparent;\n",
              "      border-right-color: var(--fill-color);\n",
              "    }\n",
              "    80% {\n",
              "      border-color: transparent;\n",
              "      border-right-color: var(--fill-color);\n",
              "      border-bottom-color: var(--fill-color);\n",
              "    }\n",
              "    90% {\n",
              "      border-color: transparent;\n",
              "      border-bottom-color: var(--fill-color);\n",
              "    }\n",
              "  }\n",
              "</style>\n",
              "\n",
              "  <script>\n",
              "    async function quickchart(key) {\n",
              "      const quickchartButtonEl =\n",
              "        document.querySelector('#' + key + ' button');\n",
              "      quickchartButtonEl.disabled = true;  // To prevent multiple clicks.\n",
              "      quickchartButtonEl.classList.add('colab-df-spinner');\n",
              "      try {\n",
              "        const charts = await google.colab.kernel.invokeFunction(\n",
              "            'suggestCharts', [key], {});\n",
              "      } catch (error) {\n",
              "        console.error('Error during call to suggestCharts:', error);\n",
              "      }\n",
              "      quickchartButtonEl.classList.remove('colab-df-spinner');\n",
              "      quickchartButtonEl.classList.add('colab-df-quickchart-complete');\n",
              "    }\n",
              "    (() => {\n",
              "      let quickchartButtonEl =\n",
              "        document.querySelector('#df-ab21ad31-a6c2-4f0a-97c9-ba209bfe76a9 button');\n",
              "      quickchartButtonEl.style.display =\n",
              "        google.colab.kernel.accessAllowed ? 'block' : 'none';\n",
              "    })();\n",
              "  </script>\n",
              "</div>\n",
              "\n",
              "    </div>\n",
              "  </div>\n"
            ],
            "text/plain": [
              "   user_id  product_id          product       mix\n",
              "0    21944       47766  Organic Avocado  0.000876\n",
              "1    33730       47766  Organic Avocado  0.006536\n",
              "2    47849       47766  Organic Avocado  0.004158\n",
              "3     1531       47766  Organic Avocado  0.008180\n",
              "4    60939       47766  Organic Avocado  0.012277"
            ]
          },
          "execution_count": 6,
          "metadata": {},
          "output_type": "execute_result"
        }
      ],
      "source": [
        "users_productname_mix_df.head()"
      ]
    },
    {
      "cell_type": "markdown",
      "metadata": {
        "id": "hjtJjnXL7NrM"
      },
      "source": [
        "## Utilize the Clustering Results to Perform User Based Collaborative Filtering"
      ]
    },
    {
      "cell_type": "code",
      "execution_count": null,
      "metadata": {
        "id": "UnSYayqImRAL"
      },
      "outputs": [],
      "source": [
        "user_tow_deptname_mix_pivot_cluster = pd.read_csv('user_tow_deptname_mix_pivot_cluster.csv')\n",
        "cluster = user_tow_deptname_mix_pivot_cluster[['user_id', 'cluster_kmeans']]"
      ]
    },
    {
      "cell_type": "code",
      "execution_count": null,
      "metadata": {
        "colab": {
          "base_uri": "https://localhost:8080/",
          "height": 206
        },
        "id": "fX9VslunqKhB",
        "outputId": "ab4467f4-a5cb-4803-c90b-99cd26f8db18",
        "scrolled": true
      },
      "outputs": [
        {
          "data": {
            "text/html": [
              "<div>\n",
              "<style scoped>\n",
              "    .dataframe tbody tr th:only-of-type {\n",
              "        vertical-align: middle;\n",
              "    }\n",
              "\n",
              "    .dataframe tbody tr th {\n",
              "        vertical-align: top;\n",
              "    }\n",
              "\n",
              "    .dataframe thead th {\n",
              "        text-align: right;\n",
              "    }\n",
              "</style>\n",
              "<table border=\"1\" class=\"dataframe\">\n",
              "  <thead>\n",
              "    <tr style=\"text-align: right;\">\n",
              "      <th></th>\n",
              "      <th>user_id</th>\n",
              "      <th>product_id</th>\n",
              "      <th>product</th>\n",
              "      <th>mix</th>\n",
              "      <th>cluster_kmeans</th>\n",
              "    </tr>\n",
              "  </thead>\n",
              "  <tbody>\n",
              "    <tr>\n",
              "      <th>0</th>\n",
              "      <td>1</td>\n",
              "      <td>12427</td>\n",
              "      <td>Original Beef Jerky</td>\n",
              "      <td>0.169492</td>\n",
              "      <td>6</td>\n",
              "    </tr>\n",
              "    <tr>\n",
              "      <th>1</th>\n",
              "      <td>1</td>\n",
              "      <td>35951</td>\n",
              "      <td>Organic Unsweetened Almond Milk</td>\n",
              "      <td>0.016949</td>\n",
              "      <td>6</td>\n",
              "    </tr>\n",
              "    <tr>\n",
              "      <th>2</th>\n",
              "      <td>1</td>\n",
              "      <td>196</td>\n",
              "      <td>Soda</td>\n",
              "      <td>0.169492</td>\n",
              "      <td>6</td>\n",
              "    </tr>\n",
              "    <tr>\n",
              "      <th>3</th>\n",
              "      <td>1</td>\n",
              "      <td>30450</td>\n",
              "      <td>Creamy Almond Butter</td>\n",
              "      <td>0.016949</td>\n",
              "      <td>6</td>\n",
              "    </tr>\n",
              "    <tr>\n",
              "      <th>4</th>\n",
              "      <td>1</td>\n",
              "      <td>25133</td>\n",
              "      <td>Organic String Cheese</td>\n",
              "      <td>0.135593</td>\n",
              "      <td>6</td>\n",
              "    </tr>\n",
              "  </tbody>\n",
              "</table>\n",
              "</div>"
            ],
            "text/plain": [
              "   user_id  product_id                          product       mix  \\\n",
              "0        1       12427              Original Beef Jerky  0.169492   \n",
              "1        1       35951  Organic Unsweetened Almond Milk  0.016949   \n",
              "2        1         196                             Soda  0.169492   \n",
              "3        1       30450             Creamy Almond Butter  0.016949   \n",
              "4        1       25133            Organic String Cheese  0.135593   \n",
              "\n",
              "   cluster_kmeans  \n",
              "0               6  \n",
              "1               6  \n",
              "2               6  \n",
              "3               6  \n",
              "4               6  "
            ]
          },
          "execution_count": 4,
          "metadata": {},
          "output_type": "execute_result"
        }
      ],
      "source": [
        "users_productname_mix_df = users_productname_mix_df.set_index('user_id').join(cluster.set_index('user_id'))\n",
        "users_productname_mix_df.reset_index(drop = False, inplace = True)\n",
        "users_productname_mix_df.head()"
      ]
    },
    {
      "cell_type": "code",
      "execution_count": null,
      "metadata": {
        "id": "8i95ya3rIE02"
      },
      "outputs": [],
      "source": [
        "import random\n",
        "\n",
        "random.seed(0)\n",
        "s = list(range(users_productname_mix_df.shape[0]))\n",
        "random.shuffle(s)\n",
        "\n",
        "test_sample = s[-int(users_productname_mix_df.shape[0] * 0.2):]"
      ]
    },
    {
      "cell_type": "code",
      "execution_count": null,
      "metadata": {
        "id": "1nuzKx7RIE02"
      },
      "outputs": [],
      "source": [
        "users_productname_mix_df_train = users_productname_mix_df.drop(test_sample, axis = 0)\n",
        "users_productname_mix_df_test = users_productname_mix_df.iloc[test_sample]"
      ]
    },
    {
      "cell_type": "code",
      "execution_count": null,
      "metadata": {
        "id": "LdC0aRiaqKhB"
      },
      "outputs": [],
      "source": [
        "from sklearn.metrics.pairwise import cosine_similarity\n",
        "\n",
        "def top_similar_user(mat, user_map, n_neighbours):\n",
        "    num_users = mat.shape[0]\n",
        "    similar_users = []\n",
        "    similarity_score = []\n",
        "    user_lst = []\n",
        "    index_lst = []\n",
        "\n",
        "    for i in range(num_users):\n",
        "        similarity = cosine_similarity(mat[i:i+1], mat)[0]\n",
        "        top_indices = np.argsort(-similarity)[1:n_neighbours+1]\n",
        "        user_lst.append(user_map.loc[i, 'user_id'])\n",
        "        similar_users.append(user_map.loc[top_indices, 'user_id'].values)\n",
        "        similarity_score.append(similarity[top_indices])\n",
        "        index_lst.append(top_indices)\n",
        "        del top_indices, similarity\n",
        "\n",
        "    return user_lst, similar_users, similarity_score, index_lst"
      ]
    },
    {
      "cell_type": "code",
      "execution_count": null,
      "metadata": {
        "colab": {
          "base_uri": "https://localhost:8080/"
        },
        "id": "b2c5HROSqKhB",
        "outputId": "9e223c54-e7c2-4c96-a060-33e5ded2af0f",
        "scrolled": false
      },
      "outputs": [
        {
          "name": "stdout",
          "output_type": "stream",
          "text": [
            "Get Similar Users for Cluster:  18\n",
            "Get Product for Cluster:  18\n"
          ]
        },
        {
          "name": "stderr",
          "output_type": "stream",
          "text": [
            "100%|██████████████████████████████████████████████████████████████████████████████| 6118/6118 [38:21<00:00,  2.66it/s]\n"
          ]
        },
        {
          "name": "stdout",
          "output_type": "stream",
          "text": [
            "Cluster Done:  18\n",
            "Get Similar Users for Cluster:  14\n",
            "Get Product for Cluster:  14\n"
          ]
        },
        {
          "name": "stderr",
          "output_type": "stream",
          "text": [
            "100%|██████████████████████████████████████████████████████████████████████████████| 8191/8191 [51:59<00:00,  2.63it/s]\n"
          ]
        },
        {
          "name": "stdout",
          "output_type": "stream",
          "text": [
            "Cluster Done:  14\n",
            "Get Similar Users for Cluster:  9\n",
            "Get Product for Cluster:  9\n"
          ]
        },
        {
          "name": "stderr",
          "output_type": "stream",
          "text": [
            "100%|██████████████████████████████████████████████████████████████████████████████| 7847/7847 [50:52<00:00,  2.57it/s]\n"
          ]
        },
        {
          "name": "stdout",
          "output_type": "stream",
          "text": [
            "Cluster Done:  9\n",
            "Get Similar Users for Cluster:  13\n",
            "Get Product for Cluster:  13\n"
          ]
        },
        {
          "name": "stderr",
          "output_type": "stream",
          "text": [
            "100%|██████████████████████████████████████████████████████████████████████████████| 5775/5775 [39:03<00:00,  2.46it/s]\n"
          ]
        },
        {
          "name": "stdout",
          "output_type": "stream",
          "text": [
            "Cluster Done:  13\n",
            "Get Similar Users for Cluster:  10\n",
            "Get Product for Cluster:  10\n"
          ]
        },
        {
          "name": "stderr",
          "output_type": "stream",
          "text": [
            "100%|██████████████████████████████████████████████████████████████████████████████| 6579/6579 [45:51<00:00,  2.39it/s]\n"
          ]
        },
        {
          "name": "stdout",
          "output_type": "stream",
          "text": [
            "Cluster Done:  10\n",
            "Get Similar Users for Cluster:  4\n",
            "Get Product for Cluster:  4\n"
          ]
        },
        {
          "name": "stderr",
          "output_type": "stream",
          "text": [
            "100%|████████████████████████████████████████████████████████████████████████████| 9090/9090 [1:03:55<00:00,  2.37it/s]\n"
          ]
        },
        {
          "name": "stdout",
          "output_type": "stream",
          "text": [
            "Cluster Done:  4\n"
          ]
        }
      ],
      "source": [
        "from scipy.sparse import csr_matrix\n",
        "from tqdm import tqdm\n",
        "\n",
        "num_sim_users = 10\n",
        "num_product_pred = 5\n",
        "results = pd.DataFrame(columns = ['user_id', 'product_id', 'prediction'])\n",
        "\n",
        "for i in users_productname_mix_df_train['cluster_kmeans'].unique():\n",
        "    print('Get Similar Users for Cluster: ', i)\n",
        "    subset_df = users_productname_mix_df_train[users_productname_mix_df_train['cluster_kmeans'] == i]\n",
        "\n",
        "    user = list(sorted(subset_df.user_id.unique()))\n",
        "    item = list(sorted(subset_df.product_id.unique()))\n",
        "\n",
        "    data = subset_df['mix'].tolist()\n",
        "\n",
        "    row = subset_df.user_id.astype('category').cat.codes\n",
        "    col = subset_df.product_id.astype('category').cat.codes\n",
        "    users_productname_mix_matrix = csr_matrix((data, (row, col)), shape=(len(user), len(item)))\n",
        "\n",
        "    user_mapping = pd.concat([subset_df.user_id, row], axis = 1)\n",
        "    user_mapping.rename(columns = {0: 'index'}, inplace = True)\n",
        "    user_mapping.drop_duplicates(inplace = True)\n",
        "    user_mapping.set_index('index', inplace = True)\n",
        "\n",
        "    item_mapping = pd.concat([subset_df.product_id, col], axis = 1)\n",
        "    item_mapping.rename(columns = {0: 'index'}, inplace = True)\n",
        "    item_mapping.drop_duplicates(inplace = True)\n",
        "    item_mapping.set_index('index', inplace = True)\n",
        "\n",
        "    user_list, sim_user, sim_score, index_list = top_similar_user(users_productname_mix_matrix, user_mapping, num_sim_users)\n",
        "\n",
        "    print('Get Product for Cluster: ', i)\n",
        "    for j in tqdm(range(len(index_list))):\n",
        "        if sum(sim_score[j]) != 0:\n",
        "            avg = pd.DataFrame(np.average(users_productname_mix_matrix[index_list[j]].todense(), weights = sim_score[j], axis = 0).transpose())\n",
        "            avg.rename(columns={0:'prediction'}, inplace = True)\n",
        "            item_pred = item_mapping.join(avg[avg['prediction'] != 0], how = 'inner')\n",
        "            pred = pd.concat([pd.DataFrame(np.repeat(user_list[j], item_pred.shape[0]), index = item_pred.index), item_pred], axis = 1).rename(columns ={0:'user_id'})\n",
        "            results = pd.concat([results, pred], axis = 0, ignore_index = True)\n",
        "    results.to_csv('colab_filter_all_rmse_' + str(i) + '.csv', index = False)\n",
        "    del subset_df, user_list, sim_user, sim_score, index_list, data, avg, pred\n",
        "    print('Cluster Done: ', i)"
      ]
    },
    {
      "cell_type": "code",
      "execution_count": null,
      "metadata": {
        "id": "pcIVBOBVIE02"
      },
      "outputs": [],
      "source": [
        "results.to_csv('colab_filter_all_rmse.csv', index = False)"
      ]
    },
    {
      "cell_type": "markdown",
      "metadata": {
        "id": "JJ3IW1dEIE02"
      },
      "source": [
        "## Assess Performance on Test Dataset"
      ]
    },
    {
      "cell_type": "code",
      "execution_count": null,
      "metadata": {
        "id": "993V6PoNIE02"
      },
      "outputs": [],
      "source": [
        "import pandas as pd\n",
        "results_user_based = pd.read_csv('colab_filter_all_rmse.csv')"
      ]
    },
    {
      "cell_type": "code",
      "execution_count": null,
      "metadata": {
        "scrolled": true,
        "id": "LBIXZYudIE02"
      },
      "outputs": [],
      "source": [
        "combined_test = users_productname_mix_df_test.set_index(['user_id', 'product_id']).join(results_user_based.set_index(['user_id', 'product_id']), how = 'left', on = ['user_id', 'product_id'])\n",
        "combined_test.fillna(0, inplace = True)"
      ]
    },
    {
      "cell_type": "code",
      "execution_count": null,
      "metadata": {
        "scrolled": true,
        "id": "AQ1PoG44IE02",
        "outputId": "5cee41cc-34d0-4fe1-dd55-fdd043507db1"
      },
      "outputs": [
        {
          "name": "stdout",
          "output_type": "stream",
          "text": [
            "rmse: 0.028069978918961097\n"
          ]
        }
      ],
      "source": [
        "import math\n",
        "\n",
        "rmse_user_based = math.sqrt(sum((combined_test['mix'] - combined_test['prediction'])**2)/combined_test.shape[0])\n",
        "print('rmse:', rmse_user_based)"
      ]
    },
    {
      "cell_type": "markdown",
      "metadata": {
        "id": "q8Z-IsbOIE02"
      },
      "source": [
        "## Interpreting Model Results"
      ]
    },
    {
      "cell_type": "code",
      "execution_count": null,
      "metadata": {
        "id": "noZ92uzMIE02"
      },
      "outputs": [],
      "source": [
        "products = pd.read_csv('products.csv')\n",
        "departments = pd.read_csv('departments.csv')\n",
        "product_dept = products.join(departments.set_index('department_id'), on= 'department_id')"
      ]
    },
    {
      "cell_type": "code",
      "execution_count": null,
      "metadata": {
        "id": "RVIHIY_mIE03"
      },
      "outputs": [],
      "source": [
        "combined_all = results_user_based.set_index(['user_id', 'product_id']).join(users_productname_mix_df.set_index(['user_id', 'product_id']), how = 'left', on = ['user_id', 'product_id'])\n",
        "combined_all = combined_all[combined_all['mix'].isnull()][['prediction']]\n",
        "combined_all.reset_index(drop = False, inplace = True)\n",
        "combined_all['rank'] = combined_all.groupby(\"user_id\")[\"prediction\"].rank(method=\"dense\", ascending=False)"
      ]
    },
    {
      "cell_type": "code",
      "execution_count": null,
      "metadata": {
        "id": "tsB8gq-YIE03"
      },
      "outputs": [],
      "source": [
        "top_prediction = combined_all[combined_all['rank'] <= 1]\n",
        "top_prediction = top_prediction.set_index('product_id').join(product_dept.set_index('product_id'), how = 'inner')\n",
        "top_prediction.reset_index(drop = False, inplace = True)"
      ]
    },
    {
      "cell_type": "code",
      "execution_count": null,
      "metadata": {
        "id": "tkj6SbfJAxGK"
      },
      "outputs": [],
      "source": [
        "product_count = top_prediction[['product_id', 'product_name', 'department', 'user_id']].groupby(['product_id', 'product_name', 'department']).count().rename(columns = {'user_id': 'count'})\n",
        "product_count.reset_index(drop = False, inplace = True)\n",
        "product_count = product_count.sort_values('count', ascending = False)"
      ]
    },
    {
      "cell_type": "code",
      "execution_count": null,
      "metadata": {
        "id": "HMe7G3woA0ch",
        "scrolled": true,
        "outputId": "84513104-42cd-4992-baa3-479fe818804c"
      },
      "outputs": [
        {
          "data": {
            "text/html": [
              "<div>\n",
              "<style scoped>\n",
              "    .dataframe tbody tr th:only-of-type {\n",
              "        vertical-align: middle;\n",
              "    }\n",
              "\n",
              "    .dataframe tbody tr th {\n",
              "        vertical-align: top;\n",
              "    }\n",
              "\n",
              "    .dataframe thead th {\n",
              "        text-align: right;\n",
              "    }\n",
              "</style>\n",
              "<table border=\"1\" class=\"dataframe\">\n",
              "  <thead>\n",
              "    <tr style=\"text-align: right;\">\n",
              "      <th></th>\n",
              "      <th>product_id</th>\n",
              "      <th>product_name</th>\n",
              "      <th>department</th>\n",
              "      <th>count</th>\n",
              "    </tr>\n",
              "  </thead>\n",
              "  <tbody>\n",
              "    <tr>\n",
              "      <th>4503</th>\n",
              "      <td>24852</td>\n",
              "      <td>Banana</td>\n",
              "      <td>produce</td>\n",
              "      <td>9928</td>\n",
              "    </tr>\n",
              "    <tr>\n",
              "      <th>2419</th>\n",
              "      <td>13176</td>\n",
              "      <td>Bag of Organic Bananas</td>\n",
              "      <td>produce</td>\n",
              "      <td>9172</td>\n",
              "    </tr>\n",
              "    <tr>\n",
              "      <th>3987</th>\n",
              "      <td>21903</td>\n",
              "      <td>Organic Baby Spinach</td>\n",
              "      <td>produce</td>\n",
              "      <td>5996</td>\n",
              "    </tr>\n",
              "    <tr>\n",
              "      <th>3848</th>\n",
              "      <td>21137</td>\n",
              "      <td>Organic Strawberries</td>\n",
              "      <td>produce</td>\n",
              "      <td>5267</td>\n",
              "    </tr>\n",
              "    <tr>\n",
              "      <th>8620</th>\n",
              "      <td>47209</td>\n",
              "      <td>Organic Hass Avocado</td>\n",
              "      <td>produce</td>\n",
              "      <td>2668</td>\n",
              "    </tr>\n",
              "    <tr>\n",
              "      <th>8712</th>\n",
              "      <td>47766</td>\n",
              "      <td>Organic Avocado</td>\n",
              "      <td>produce</td>\n",
              "      <td>2390</td>\n",
              "    </tr>\n",
              "    <tr>\n",
              "      <th>5064</th>\n",
              "      <td>27845</td>\n",
              "      <td>Organic Whole Milk</td>\n",
              "      <td>dairy eggs</td>\n",
              "      <td>2318</td>\n",
              "    </tr>\n",
              "    <tr>\n",
              "      <th>8690</th>\n",
              "      <td>47626</td>\n",
              "      <td>Large Lemon</td>\n",
              "      <td>produce</td>\n",
              "      <td>2067</td>\n",
              "    </tr>\n",
              "    <tr>\n",
              "      <th>3087</th>\n",
              "      <td>16797</td>\n",
              "      <td>Strawberries</td>\n",
              "      <td>produce</td>\n",
              "      <td>1978</td>\n",
              "    </tr>\n",
              "    <tr>\n",
              "      <th>7221</th>\n",
              "      <td>39275</td>\n",
              "      <td>Organic Blueberries</td>\n",
              "      <td>produce</td>\n",
              "      <td>1963</td>\n",
              "    </tr>\n",
              "  </tbody>\n",
              "</table>\n",
              "</div>"
            ],
            "text/plain": [
              "      product_id            product_name  department  count\n",
              "4503       24852                  Banana     produce   9928\n",
              "2419       13176  Bag of Organic Bananas     produce   9172\n",
              "3987       21903    Organic Baby Spinach     produce   5996\n",
              "3848       21137    Organic Strawberries     produce   5267\n",
              "8620       47209    Organic Hass Avocado     produce   2668\n",
              "8712       47766         Organic Avocado     produce   2390\n",
              "5064       27845      Organic Whole Milk  dairy eggs   2318\n",
              "8690       47626             Large Lemon     produce   2067\n",
              "3087       16797            Strawberries     produce   1978\n",
              "7221       39275     Organic Blueberries     produce   1963"
            ]
          },
          "execution_count": 14,
          "metadata": {},
          "output_type": "execute_result"
        }
      ],
      "source": [
        "product_count.head(10)"
      ]
    },
    {
      "cell_type": "code",
      "execution_count": null,
      "metadata": {
        "id": "_vNF49kCIE03",
        "outputId": "cac2a32b-ae92-4af6-cca0-060c3541a14d"
      },
      "outputs": [
        {
          "data": {
            "image/png": "[encoded data removed]",
            "text/plain": [
              "<Figure size 500x800 with 1 Axes>"
            ]
          },
          "metadata": {},
          "output_type": "display_data"
        }
      ],
      "source": [
        "import matplotlib.pyplot as plt\n",
        "import seaborn as sns\n",
        "\n",
        "plt.figure(figsize=(5,8))\n",
        "ax = sns.barplot(data = product_count[:10], x='count', y = 'product_name', hue = 'department', orient = 'h',dodge=False)\n",
        "ax.set(xlabel='Frequency of Product Being the Top Recommendation')\n",
        "plt.title('Top 10 Most Recommended Products')\n",
        "plt.legend(loc='lower right')\n",
        "plt.show()"
      ]
    },
    {
      "cell_type": "markdown",
      "metadata": {
        "id": "I85smu__IE03"
      },
      "source": [
        "# Item Based Collaborative Filtering"
      ]
    },
    {
      "cell_type": "code",
      "execution_count": null,
      "metadata": {
        "id": "BQHswkiNweC8"
      },
      "outputs": [],
      "source": [
        "from scipy.sparse import csr_matrix\n",
        "\n",
        "user = list(sorted(users_productname_mix_df_train.user_id.unique()))\n",
        "item = list(sorted(users_productname_mix_df_train.product_id.unique()))\n",
        "\n",
        "data = users_productname_mix_df_train['mix'].tolist()\n",
        "\n",
        "col = users_productname_mix_df_train.user_id.astype('category').cat.codes\n",
        "row = users_productname_mix_df_train.product_id.astype('category').cat.codes\n",
        "users_productname_mix_matrix = csr_matrix((data, (row, col)), shape=(len(item), len(user)))"
      ]
    },
    {
      "cell_type": "code",
      "execution_count": null,
      "metadata": {
        "id": "IDBAYtJjweAc"
      },
      "outputs": [],
      "source": [
        "user_mapping = pd.concat([users_productname_mix_df_train.user_id, col], axis = 1)\n",
        "user_mapping.rename(columns = {0: 'index'}, inplace = True)\n",
        "user_mapping.drop_duplicates(inplace = True)\n",
        "user_mapping.set_index('index', inplace = True)"
      ]
    },
    {
      "cell_type": "code",
      "execution_count": null,
      "metadata": {
        "id": "zDiMllkfwd5O"
      },
      "outputs": [],
      "source": [
        "item_mapping = pd.concat([users_productname_mix_df_train.product_id, row], axis = 1)\n",
        "item_mapping.rename(columns = {0: 'index'}, inplace = True)\n",
        "item_mapping.drop_duplicates(inplace = True)\n",
        "item_mapping.set_index('index', inplace = True)"
      ]
    },
    {
      "cell_type": "code",
      "execution_count": null,
      "metadata": {
        "colab": {
          "base_uri": "https://localhost:8080/"
        },
        "id": "WQUkVlXAwd26",
        "outputId": "88549ec4-56e3-4165-f8ae-e39024cf6f0c"
      },
      "outputs": [
        {
          "name": "stderr",
          "output_type": "stream",
          "text": [
            "100%|██████████| 49677/49677 [41:28<00:00, 19.96it/s]\n"
          ]
        }
      ],
      "source": [
        "from sklearn.metrics.pairwise import cosine_similarity\n",
        "from tqdm import tqdm\n",
        "import pickle\n",
        "\n",
        "n_neighbours = 10\n",
        "num_items = users_productname_mix_matrix.shape[0]\n",
        "similar_items = []\n",
        "similarity_score = []\n",
        "item_lst = []\n",
        "index_lst = []\n",
        "\n",
        "for i in tqdm(range(num_items)):\n",
        "    if item_mapping.loc[i, 'product_id'] not in item_lst:\n",
        "        similarity = cosine_similarity(users_productname_mix_matrix[i:i+1], users_productname_mix_matrix)[0]\n",
        "        top_indices = np.argsort(-similarity)[1:n_neighbours+1]\n",
        "        item_lst.append(item_mapping.loc[i, 'product_id'])\n",
        "        similar_items.append(item_mapping.loc[top_indices, 'product_id'].values)\n",
        "        similarity_score.append(similarity[top_indices])\n",
        "        index_lst.append(top_indices)\n",
        "        del similarity, top_indices\n",
        "        if i%3000 == 0:\n",
        "            with open(\"similar_items_file_\" + str(i), \"wb\") as similar_items_file:\n",
        "                pickle.dump(similar_items, similar_items_file)\n",
        "            with open(\"similarity_score_file_\" + str(i), \"wb\") as similarity_score_file:\n",
        "                pickle.dump(similarity_score, similarity_score_file)\n",
        "            with open(\"item_lst_file_\" + str(i), \"wb\") as item_lst_file:\n",
        "                pickle.dump(item_lst, item_lst_file)\n",
        "            with open(\"index_lst_file_\" + str(i), \"wb\") as index_lst_file:\n",
        "                pickle.dump(index_lst, index_lst_file)"
      ]
    },
    {
      "cell_type": "code",
      "execution_count": null,
      "metadata": {
        "id": "nW5pndGAznl6"
      },
      "outputs": [],
      "source": [
        "import pickle\n",
        "\n",
        "with open(\"similar_items_file\", \"wb\") as similar_items_file:\n",
        "    pickle.dump(similar_items, similar_items_file)\n",
        "with open(\"similarity_score_file\", \"wb\") as similarity_score_file:\n",
        "    pickle.dump(similarity_score, similarity_score_file)\n",
        "with open(\"item_lst_file\", \"wb\") as item_lst_file:\n",
        "    pickle.dump(item_lst, item_lst_file)\n",
        "with open(\"index_lst_file\", \"wb\") as index_lst_file:\n",
        "    pickle.dump(index_lst, index_lst_file)"
      ]
    },
    {
      "cell_type": "code",
      "execution_count": null,
      "metadata": {
        "id": "YR0yvjMEae_B"
      },
      "outputs": [],
      "source": [
        "import pickle\n",
        "\n",
        "with open(\"similar_items_file\", \"rb\") as similar_items_file:\n",
        "    similar_items = pickle.load(similar_items_file)\n",
        "with open(\"similarity_score_file\", \"rb\") as similarity_score_file:\n",
        "    similarity_score = pickle.load(similarity_score_file)\n",
        "with open(\"item_lst_file\" , \"rb\") as item_lst_file:\n",
        "    item_lst = pickle.load(item_lst_file)\n",
        "with open(\"index_lst_file\", \"rb\") as index_lst_file:\n",
        "    index_lst = pickle.load(index_lst_file)"
      ]
    },
    {
      "cell_type": "code",
      "execution_count": null,
      "metadata": {
        "colab": {
          "base_uri": "https://localhost:8080/"
        },
        "id": "nbjnvgKH-Eod",
        "outputId": "2943162a-9318-49a9-cfee-9f0be611f779"
      },
      "outputs": [
        {
          "name": "stderr",
          "output_type": "stream",
          "text": [
            "100%|██████████| 4697/4697 [2:20:42<00:00,  1.80s/it]\n"
          ]
        }
      ],
      "source": [
        "from tqdm import tqdm\n",
        "\n",
        "results = pd.DataFrame(columns = ['user_id', 'product_id', 'prediction'])\n",
        "\n",
        "for j in tqdm(len(index_lst))):\n",
        "    if (sum(similarity_score[j]) != 0) & (item_lst[j] not in results['product_id'].values):\n",
        "        avg = pd.DataFrame(np.average(users_productname_mix_matrix[index_lst[j]].todense(), weights = similarity_score[j], axis = 0).transpose())\n",
        "        avg.rename(columns={0:'prediction'}, inplace = True)\n",
        "        user_pred = user_mapping.join(avg[avg['prediction'] != 0], how = 'inner')\n",
        "        pred = pd.concat([pd.DataFrame(np.repeat(item_lst[j], user_pred.shape[0]), index = user_pred.index), user_pred], axis = 1).rename(columns ={0:'product_id'})\n",
        "        results = pd.concat([results, pred[['user_id', 'product_id', 'prediction']]], axis = 0, ignore_index = True)\n",
        "        if j % 3000 == 0:\n",
        "            results.to_csv('colab_filter_item_based_rmse_' + str(j) + '.csv', index = False)\n",
        "        del avg, user_pred"
      ]
    },
    {
      "cell_type": "code",
      "execution_count": null,
      "metadata": {
        "id": "V8C1e2km_dUk"
      },
      "outputs": [],
      "source": [
        "results.to_csv('colab_filter_item_based_rmse.csv', index = False)"
      ]
    },
    {
      "cell_type": "markdown",
      "metadata": {
        "id": "Int08TLpIE04"
      },
      "source": [
        "## Assess Performance on Test Dataset"
      ]
    },
    {
      "cell_type": "code",
      "execution_count": null,
      "metadata": {
        "id": "UpYjYDdBAVkM"
      },
      "outputs": [],
      "source": [
        "results_item_based = pd.read_csv('colab_filter_item_based_rmse.csv')"
      ]
    },
    {
      "cell_type": "code",
      "execution_count": null,
      "metadata": {
        "colab": {
          "base_uri": "https://localhost:8080/",
          "height": 206
        },
        "id": "LbSQhnxR5QZu",
        "outputId": "e0eee1d7-3639-47b9-f5e7-1e472122e94f"
      },
      "outputs": [
        {
          "data": {
            "text/html": [
              "<div>\n",
              "<style scoped>\n",
              "    .dataframe tbody tr th:only-of-type {\n",
              "        vertical-align: middle;\n",
              "    }\n",
              "\n",
              "    .dataframe tbody tr th {\n",
              "        vertical-align: top;\n",
              "    }\n",
              "\n",
              "    .dataframe thead th {\n",
              "        text-align: right;\n",
              "    }\n",
              "</style>\n",
              "<table border=\"1\" class=\"dataframe\">\n",
              "  <thead>\n",
              "    <tr style=\"text-align: right;\">\n",
              "      <th></th>\n",
              "      <th>user_id</th>\n",
              "      <th>product_id</th>\n",
              "      <th>prediction</th>\n",
              "    </tr>\n",
              "  </thead>\n",
              "  <tbody>\n",
              "    <tr>\n",
              "      <th>0</th>\n",
              "      <td>145243</td>\n",
              "      <td>1</td>\n",
              "      <td>0.000515</td>\n",
              "    </tr>\n",
              "    <tr>\n",
              "      <th>1</th>\n",
              "      <td>24530</td>\n",
              "      <td>1</td>\n",
              "      <td>0.000111</td>\n",
              "    </tr>\n",
              "    <tr>\n",
              "      <th>2</th>\n",
              "      <td>3722</td>\n",
              "      <td>1</td>\n",
              "      <td>0.001397</td>\n",
              "    </tr>\n",
              "    <tr>\n",
              "      <th>3</th>\n",
              "      <td>31186</td>\n",
              "      <td>1</td>\n",
              "      <td>0.000115</td>\n",
              "    </tr>\n",
              "    <tr>\n",
              "      <th>4</th>\n",
              "      <td>47685</td>\n",
              "      <td>1</td>\n",
              "      <td>0.000368</td>\n",
              "    </tr>\n",
              "  </tbody>\n",
              "</table>\n",
              "</div>"
            ],
            "text/plain": [
              "   user_id  product_id  prediction\n",
              "0   145243           1    0.000515\n",
              "1    24530           1    0.000111\n",
              "2     3722           1    0.001397\n",
              "3    31186           1    0.000115\n",
              "4    47685           1    0.000368"
            ]
          },
          "execution_count": 17,
          "metadata": {},
          "output_type": "execute_result"
        }
      ],
      "source": [
        "results_item_based.head()"
      ]
    },
    {
      "cell_type": "code",
      "execution_count": null,
      "metadata": {
        "id": "xuVz_fuTAGaf"
      },
      "outputs": [],
      "source": [
        "combined_test = users_productname_mix_df_test.set_index(['user_id', 'product_id']).join(results_item_based.set_index(['user_id', 'product_id']), how = 'left', on = ['user_id', 'product_id'])\n",
        "combined_test.fillna(0, inplace = True)"
      ]
    },
    {
      "cell_type": "code",
      "execution_count": null,
      "metadata": {
        "id": "HmHE6NXUIE04",
        "outputId": "906a0773-7f2f-49f1-cfe1-fad67dd6c95e"
      },
      "outputs": [
        {
          "data": {
            "text/html": [
              "<div>\n",
              "<style scoped>\n",
              "    .dataframe tbody tr th:only-of-type {\n",
              "        vertical-align: middle;\n",
              "    }\n",
              "\n",
              "    .dataframe tbody tr th {\n",
              "        vertical-align: top;\n",
              "    }\n",
              "\n",
              "    .dataframe thead th {\n",
              "        text-align: right;\n",
              "    }\n",
              "</style>\n",
              "<table border=\"1\" class=\"dataframe\">\n",
              "  <thead>\n",
              "    <tr style=\"text-align: right;\">\n",
              "      <th></th>\n",
              "      <th></th>\n",
              "      <th>product</th>\n",
              "      <th>mix</th>\n",
              "      <th>cluster_kmeans</th>\n",
              "      <th>prediction</th>\n",
              "    </tr>\n",
              "    <tr>\n",
              "      <th>user_id</th>\n",
              "      <th>product_id</th>\n",
              "      <th></th>\n",
              "      <th></th>\n",
              "      <th></th>\n",
              "      <th></th>\n",
              "    </tr>\n",
              "  </thead>\n",
              "  <tbody>\n",
              "    <tr>\n",
              "      <th>95381</th>\n",
              "      <th>7559</th>\n",
              "      <td>Cinnamon Rolls with Icing</td>\n",
              "      <td>0.019324</td>\n",
              "      <td>3</td>\n",
              "      <td>0.003436</td>\n",
              "    </tr>\n",
              "    <tr>\n",
              "      <th>24247</th>\n",
              "      <th>39408</th>\n",
              "      <td>Gala Apples</td>\n",
              "      <td>0.006024</td>\n",
              "      <td>12</td>\n",
              "      <td>0.010270</td>\n",
              "    </tr>\n",
              "    <tr>\n",
              "      <th>122376</th>\n",
              "      <th>27323</th>\n",
              "      <td>Pure &amp; Natural Sour Cream</td>\n",
              "      <td>0.007299</td>\n",
              "      <td>3</td>\n",
              "      <td>0.000000</td>\n",
              "    </tr>\n",
              "    <tr>\n",
              "      <th>131293</th>\n",
              "      <th>10369</th>\n",
              "      <td>Organic Genoa Salami</td>\n",
              "      <td>0.009524</td>\n",
              "      <td>13</td>\n",
              "      <td>0.000000</td>\n",
              "    </tr>\n",
              "    <tr>\n",
              "      <th>117798</th>\n",
              "      <th>1700</th>\n",
              "      <td>White Cheddar Popcorn</td>\n",
              "      <td>0.010638</td>\n",
              "      <td>0</td>\n",
              "      <td>0.000000</td>\n",
              "    </tr>\n",
              "  </tbody>\n",
              "</table>\n",
              "</div>"
            ],
            "text/plain": [
              "                                      product       mix  cluster_kmeans  \\\n",
              "user_id product_id                                                        \n",
              "95381   7559        Cinnamon Rolls with Icing  0.019324               3   \n",
              "24247   39408                     Gala Apples  0.006024              12   \n",
              "122376  27323       Pure & Natural Sour Cream  0.007299               3   \n",
              "131293  10369            Organic Genoa Salami  0.009524              13   \n",
              "117798  1700            White Cheddar Popcorn  0.010638               0   \n",
              "\n",
              "                    prediction  \n",
              "user_id product_id              \n",
              "95381   7559          0.003436  \n",
              "24247   39408         0.010270  \n",
              "122376  27323         0.000000  \n",
              "131293  10369         0.000000  \n",
              "117798  1700          0.000000  "
            ]
          },
          "execution_count": 19,
          "metadata": {},
          "output_type": "execute_result"
        }
      ],
      "source": [
        "combined_test.head()"
      ]
    },
    {
      "cell_type": "code",
      "execution_count": null,
      "metadata": {
        "id": "n2xtiV5ZIE04",
        "outputId": "ca143bad-5934-4615-bf31-02b2bf60fb70"
      },
      "outputs": [
        {
          "name": "stdout",
          "output_type": "stream",
          "text": [
            "rmse: 0.02650661045830266\n"
          ]
        }
      ],
      "source": [
        "import math\n",
        "\n",
        "rmse_user_based = math.sqrt(sum((combined_test['mix'] - combined_test['prediction'])**2)/combined_test.shape[0])\n",
        "print('rmse:', rmse_user_based)"
      ]
    },
    {
      "cell_type": "markdown",
      "metadata": {
        "id": "N13PiFsQIE04"
      },
      "source": [
        "## Interpreting Model Results"
      ]
    },
    {
      "cell_type": "code",
      "execution_count": null,
      "metadata": {
        "id": "J6522eT3IE04"
      },
      "outputs": [],
      "source": [
        "products = pd.read_csv('products.csv')\n",
        "departments = pd.read_csv('departments.csv')\n",
        "product_dept = products.join(departments.set_index('department_id'), on= 'department_id')"
      ]
    },
    {
      "cell_type": "code",
      "execution_count": null,
      "metadata": {
        "id": "p4VNuBMKIE04"
      },
      "outputs": [],
      "source": [
        "combined_all = results_item_based.set_index(['user_id', 'product_id']).join(users_productname_mix_df.set_index(['user_id', 'product_id']), how = 'left', on = ['user_id', 'product_id'])"
      ]
    },
    {
      "cell_type": "code",
      "execution_count": null,
      "metadata": {
        "id": "3bxdEXezIE04"
      },
      "outputs": [],
      "source": [
        "combined_all = combined_all[combined_all['mix'].isnull()][['prediction']]\n",
        "combined_all.reset_index(drop = False, inplace = True)\n",
        "combined_all['rank'] = combined_all.groupby(\"user_id\")[\"prediction\"].rank(method=\"dense\", ascending=False)"
      ]
    },
    {
      "cell_type": "code",
      "execution_count": null,
      "metadata": {
        "id": "uCce-VTrIE04"
      },
      "outputs": [],
      "source": [
        "top_prediction = combined_all[combined_all['rank'] <= 1]\n",
        "top_prediction = top_prediction.set_index('product_id').join(product_dept.set_index('product_id'), how = 'inner')\n",
        "top_prediction.reset_index(drop = False, inplace = True)"
      ]
    },
    {
      "cell_type": "code",
      "execution_count": null,
      "metadata": {
        "id": "ZhK3PHejIE04"
      },
      "outputs": [],
      "source": [
        "product_count = top_prediction[['product_id', 'product_name', 'department', 'user_id']].groupby(['product_id', 'product_name', 'department']).count().rename(columns = {'user_id': 'count'})\n",
        "product_count.reset_index(drop = False, inplace = True)\n",
        "product_count = product_count.sort_values('count', ascending = False)"
      ]
    },
    {
      "cell_type": "code",
      "execution_count": null,
      "metadata": {
        "id": "OFdDzOCKIE05",
        "outputId": "a28ad5c0-a375-478c-a0f4-5fc1f56eed5c"
      },
      "outputs": [
        {
          "data": {
            "text/html": [
              "<div>\n",
              "<style scoped>\n",
              "    .dataframe tbody tr th:only-of-type {\n",
              "        vertical-align: middle;\n",
              "    }\n",
              "\n",
              "    .dataframe tbody tr th {\n",
              "        vertical-align: top;\n",
              "    }\n",
              "\n",
              "    .dataframe thead th {\n",
              "        text-align: right;\n",
              "    }\n",
              "</style>\n",
              "<table border=\"1\" class=\"dataframe\">\n",
              "  <thead>\n",
              "    <tr style=\"text-align: right;\">\n",
              "      <th></th>\n",
              "      <th>product_id</th>\n",
              "      <th>product_name</th>\n",
              "      <th>department</th>\n",
              "      <th>count</th>\n",
              "    </tr>\n",
              "  </thead>\n",
              "  <tbody>\n",
              "    <tr>\n",
              "      <th>7700</th>\n",
              "      <td>28204</td>\n",
              "      <td>Organic Fuji Apple</td>\n",
              "      <td>produce</td>\n",
              "      <td>7423</td>\n",
              "    </tr>\n",
              "    <tr>\n",
              "      <th>9815</th>\n",
              "      <td>35951</td>\n",
              "      <td>Organic Unsweetened Almond Milk</td>\n",
              "      <td>dairy eggs</td>\n",
              "      <td>2631</td>\n",
              "    </tr>\n",
              "    <tr>\n",
              "      <th>12302</th>\n",
              "      <td>45066</td>\n",
              "      <td>Honeycrisp Apple</td>\n",
              "      <td>produce</td>\n",
              "      <td>2436</td>\n",
              "    </tr>\n",
              "    <tr>\n",
              "      <th>11975</th>\n",
              "      <td>43961</td>\n",
              "      <td>Organic Peeled Whole Baby Carrots</td>\n",
              "      <td>produce</td>\n",
              "      <td>1805</td>\n",
              "    </tr>\n",
              "    <tr>\n",
              "      <th>2424</th>\n",
              "      <td>9076</td>\n",
              "      <td>Blueberries</td>\n",
              "      <td>frozen</td>\n",
              "      <td>1777</td>\n",
              "    </tr>\n",
              "  </tbody>\n",
              "</table>\n",
              "</div>"
            ],
            "text/plain": [
              "       product_id                       product_name  department  count\n",
              "7700        28204                 Organic Fuji Apple     produce   7423\n",
              "9815        35951    Organic Unsweetened Almond Milk  dairy eggs   2631\n",
              "12302       45066                   Honeycrisp Apple     produce   2436\n",
              "11975       43961  Organic Peeled Whole Baby Carrots     produce   1805\n",
              "2424         9076                        Blueberries      frozen   1777"
            ]
          },
          "execution_count": 26,
          "metadata": {},
          "output_type": "execute_result"
        }
      ],
      "source": [
        "product_count.head()"
      ]
    },
    {
      "cell_type": "code",
      "execution_count": null,
      "metadata": {
        "scrolled": false,
        "id": "5kPJ65iXIE05",
        "outputId": "da25b029-fee8-42b0-dfc2-37bff0cbd024"
      },
      "outputs": [
        {
          "data": {
            "image/png": "[encoded data removed]",
            "text/plain": [
              "<Figure size 500x800 with 1 Axes>"
            ]
          },
          "metadata": {},
          "output_type": "display_data"
        }
      ],
      "source": [
        "import matplotlib.pyplot as plt\n",
        "import seaborn as sns\n",
        "\n",
        "plt.figure(figsize=(5,8))\n",
        "ax = sns.barplot(data = product_count[:10], x='count', y = 'product_name', hue = 'department', orient = 'h',dodge=False)\n",
        "ax.set(xlabel='Frequency of Product Being the Top Recommendation')\n",
        "plt.title('Top 10 Most Recommended Products')\n",
        "plt.legend(loc='lower right')\n",
        "plt.show()"
      ]
    },
    {
      "cell_type": "markdown",
      "metadata": {
        "id": "6_gHP2b22pzP"
      },
      "source": [
        "# SVD"
      ]
    },
    {
      "cell_type": "code",
      "execution_count": null,
      "metadata": {
        "colab": {
          "base_uri": "https://localhost:8080/"
        },
        "id": "pTFyyK-k2xeo",
        "outputId": "b5dea63c-e7d8-45e4-af3d-3ce3574184a3"
      },
      "outputs": [
        {
          "name": "stdout",
          "output_type": "stream",
          "text": [
            "Requirement already satisfied: scikit-surprise in /usr/local/lib/python3.10/dist-packages (1.1.3)\n",
            "Requirement already satisfied: joblib>=1.0.0 in /usr/local/lib/python3.10/dist-packages (from scikit-surprise) (1.3.2)\n",
            "Requirement already satisfied: numpy>=1.17.3 in /usr/local/lib/python3.10/dist-packages (from scikit-surprise) (1.25.2)\n",
            "Requirement already satisfied: scipy>=1.3.2 in /usr/local/lib/python3.10/dist-packages (from scikit-surprise) (1.11.4)\n"
          ]
        }
      ],
      "source": [
        "! pip install scikit-surprise"
      ]
    },
    {
      "cell_type": "code",
      "execution_count": null,
      "metadata": {
        "id": "AZY_5rL03ci7"
      },
      "outputs": [],
      "source": [
        "from surprise import Dataset, Reader\n",
        "\n",
        "reader = Reader(rating_scale=(0, 1))\n",
        "data = Dataset.load_from_df(users_productname_mix_df_train[[\"user_id\", \"product_id\", \"mix\"]], reader)"
      ]
    },
    {
      "cell_type": "markdown",
      "metadata": {
        "id": "GBioZuOMIE05"
      },
      "source": [
        "## Grid Search to find the best combination of parameters"
      ]
    },
    {
      "cell_type": "code",
      "execution_count": null,
      "metadata": {
        "id": "PLrAPnsJJGSn",
        "outputId": "dfe2efac-1270-41b9-cd46-29f8389e58f8"
      },
      "outputs": [
        {
          "name": "stdout",
          "output_type": "stream",
          "text": [
            "0.02639821511493637\n",
            "{'n_factors': 10, 'n_epochs': 30, 'lr_all': 0.005, 'reg_all': 0.005}\n"
          ]
        }
      ],
      "source": [
        "from surprise.model_selection import GridSearchCV\n",
        "from surprise import SVD\n",
        "\n",
        "param_grid = {\"n_factors\": [10, 50, 100, 200, 500], \"n_epochs\": [10, 20, 30], \"lr_all\": [0.005, 0.01], \"reg_all\": [0.001, 0.005]}\n",
        "gs = GridSearchCV(SVD, param_grid, measures=[\"rmse\"], cv=3)\n",
        "\n",
        "gs.fit(data)\n",
        "\n",
        "print(gs.best_score[\"rmse\"])\n",
        "print(gs.best_params[\"rmse\"])"
      ]
    },
    {
      "cell_type": "code",
      "execution_count": null,
      "metadata": {
        "id": "CW3p8-Q2JGQq"
      },
      "outputs": [],
      "source": [
        "import pickle\n",
        "\n",
        "with open(\"gridsearch_file\", \"wb\") as gridsearch_file:\n",
        "    pickle.dump(gs, gridsearch_file)\n",
        "\n",
        "with open(\"param_grid_file\", \"wb\") as param_grid_file:\n",
        "    pickle.dump(param_grid, param_grid_file)"
      ]
    },
    {
      "cell_type": "markdown",
      "metadata": {
        "id": "_4F7dU2LIE08"
      },
      "source": [
        "## Assess Performance on Test Dataset"
      ]
    },
    {
      "cell_type": "code",
      "execution_count": null,
      "metadata": {
        "id": "Ezrru8EPIE08"
      },
      "outputs": [],
      "source": [
        "test_data = Dataset.load_from_df(users_productname_mix_df_test[[\"user_id\", \"product_id\", \"mix\"]], reader)"
      ]
    },
    {
      "cell_type": "code",
      "execution_count": null,
      "metadata": {
        "colab": {
          "base_uri": "https://localhost:8080/"
        },
        "id": "MacV6zin7PnX",
        "outputId": "f954c3fd-efb3-4c3c-d6fb-316a39d5c726"
      },
      "outputs": [
        {
          "data": {
            "text/plain": [
              "<surprise.prediction_algorithms.matrix_factorization.SVD at 0x22889480bb0>"
            ]
          },
          "execution_count": 22,
          "metadata": {},
          "output_type": "execute_result"
        }
      ],
      "source": [
        "from surprise import SVD\n",
        "\n",
        "svd_rec = SVD(n_factors = 10, n_epochs = 30, lr_all = 0.005, reg_all = 0.005)\n",
        "svd_rec.fit(data.build_full_trainset())"
      ]
    },
    {
      "cell_type": "code",
      "execution_count": null,
      "metadata": {
        "id": "TPMt5Q6j2tMv"
      },
      "outputs": [],
      "source": [
        "predictions = svd_rec.test(test_data.build_full_trainset().build_testset())"
      ]
    },
    {
      "cell_type": "code",
      "execution_count": null,
      "metadata": {
        "colab": {
          "base_uri": "https://localhost:8080/"
        },
        "id": "41qPuEXL2tKi",
        "outputId": "0b404559-e1a4-4637-b430-b961811ec4dd"
      },
      "outputs": [
        {
          "name": "stdout",
          "output_type": "stream",
          "text": [
            "RMSE: 0.0270\n"
          ]
        },
        {
          "data": {
            "text/plain": [
              "0.027030610201550946"
            ]
          },
          "execution_count": 28,
          "metadata": {},
          "output_type": "execute_result"
        }
      ],
      "source": [
        "from surprise import accuracy\n",
        "accuracy.rmse(predictions, verbose=True)"
      ]
    },
    {
      "cell_type": "markdown",
      "metadata": {
        "id": "wtXiw9qTIE08"
      },
      "source": [
        "## Interpreting Model Results"
      ]
    },
    {
      "cell_type": "code",
      "execution_count": null,
      "metadata": {
        "id": "hPyHIPt6IE08"
      },
      "outputs": [],
      "source": [
        "import pickle\n",
        "\n",
        "with open(\"svd_model\", \"rb\") as svd_model:\n",
        "    svd_rec = pickle.load(svd_model)"
      ]
    },
    {
      "cell_type": "code",
      "execution_count": null,
      "metadata": {
        "id": "QQSCzfCyIE08"
      },
      "outputs": [],
      "source": [
        "pred_data = combined_all\n",
        "pred_data.drop(['prediction', 'rank'], axis = 1, inplace = True)\n",
        "pred_data[['dummy']] = 0"
      ]
    },
    {
      "cell_type": "code",
      "execution_count": null,
      "metadata": {
        "id": "aMd1jf0TIE08"
      },
      "outputs": [],
      "source": [
        "n = 500000  #chunk row size\n",
        "pred_data_chunk = [pred_data[i:i+n] for i in range(0,pred_data.shape[0],n)]"
      ]
    },
    {
      "cell_type": "code",
      "execution_count": null,
      "metadata": {
        "id": "lL_3ETRBIE09",
        "outputId": "1d176d8d-7c52-4842-c062-f7a0b94c52a4"
      },
      "outputs": [
        {
          "name": "stderr",
          "output_type": "stream",
          "text": [
            "100%|██████████████████████████████████████████████████████████████████████████████| 285/285 [2:10:01<00:00, 27.37s/it]\n"
          ]
        }
      ],
      "source": [
        "from tqdm import tqdm\n",
        "from surprise import Dataset, Reader\n",
        "reader = Reader(rating_scale=(0, 1))\n",
        "\n",
        "results_svd = pd.DataFrame(columns = ['uid', 'iid', 'est'])\n",
        "for i in tqdm(pred_data_chunk):\n",
        "    pred_dataset = Dataset.load_from_df(i, reader)\n",
        "    predictions = svd_rec.test(pred_dataset.build_full_trainset().build_testset())\n",
        "    results_svd = pd.concat([results_svd, pd.DataFrame(predictions)[['uid', 'iid', 'est']]])\n",
        "    del predictions, pred_dataset"
      ]
    },
    {
      "cell_type": "code",
      "execution_count": null,
      "metadata": {
        "id": "aNu__f7oIE09"
      },
      "outputs": [],
      "source": [
        "results_svd.to_csv('svd_results.csv', index = False)"
      ]
    },
    {
      "cell_type": "code",
      "execution_count": null,
      "metadata": {
        "id": "WUE5euadIE09"
      },
      "outputs": [],
      "source": [
        "results_svd = pd.read_csv('svd_results.csv')\n",
        "results_svd.rename(columns={'uid': 'user_id', 'iid': 'product_id', 'est': 'prediction'}, inplace = True)"
      ]
    },
    {
      "cell_type": "code",
      "execution_count": null,
      "metadata": {
        "id": "VQ5Z2h_XIE09"
      },
      "outputs": [],
      "source": [
        "products = pd.read_csv('products.csv')\n",
        "departments = pd.read_csv('departments.csv')\n",
        "product_dept = products.join(departments.set_index('department_id'), on= 'department_id')"
      ]
    },
    {
      "cell_type": "code",
      "execution_count": null,
      "metadata": {
        "id": "LDuXPi9BIE09"
      },
      "outputs": [],
      "source": [
        "n = 500000  #chunk row size\n",
        "chunk_data = [results_svd[i:i+n] for i in range(0,results_svd.shape[0],n)]"
      ]
    },
    {
      "cell_type": "code",
      "execution_count": null,
      "metadata": {
        "id": "fXI_Ju1YIE09",
        "outputId": "4b93c4d5-7abc-41c4-8f5a-7d74751adb03"
      },
      "outputs": [
        {
          "name": "stderr",
          "output_type": "stream",
          "text": [
            "100%|████████████████████████████████████████████████████████████████████████████████| 285/285 [51:00<00:00, 10.74s/it]\n"
          ]
        }
      ],
      "source": [
        "from tqdm import tqdm\n",
        "\n",
        "users_productname_mix_df = users_productname_mix_df.set_index(['user_id', 'product_id'])\n",
        "combined_all = pd.DataFrame(columns = {'user_id', 'product_id', 'prediction'})\n",
        "for i in tqdm(chunk_data):\n",
        "    combined_data = i.set_index(['user_id', 'product_id']).join(users_productname_mix_df, how = 'left', on = ['user_id', 'product_id'])\n",
        "    combined_data = combined_data[combined_data['mix'].isnull()][['prediction']]\n",
        "    combined_data.reset_index(drop = False, inplace = True)\n",
        "    combined_all = pd.concat([combined_all, combined_data])\n",
        "    del combined_data"
      ]
    },
    {
      "cell_type": "code",
      "execution_count": null,
      "metadata": {
        "id": "otXvYrx8IE09"
      },
      "outputs": [],
      "source": [
        "combined_all.to_csv('results_svd_filter.csv', index = False)"
      ]
    },
    {
      "cell_type": "code",
      "execution_count": null,
      "metadata": {
        "id": "16UTf1i57m_2"
      },
      "outputs": [],
      "source": [
        "combined_all['rank'] = combined_all.groupby(\"user_id\")[\"prediction\"].rank(method=\"dense\", ascending=False)"
      ]
    },
    {
      "cell_type": "code",
      "execution_count": null,
      "metadata": {
        "id": "50hKcYqWIE09"
      },
      "outputs": [],
      "source": [
        "combined_all.to_csv('results_svd_filter_rank.csv', index = False)"
      ]
    },
    {
      "cell_type": "code",
      "execution_count": null,
      "metadata": {
        "id": "hi1eixP9IE09"
      },
      "outputs": [],
      "source": [
        "combined_all = pd.read_csv('results_svd_filter_rank.csv')"
      ]
    },
    {
      "cell_type": "code",
      "execution_count": null,
      "metadata": {
        "id": "ujH5kDUKAxKZ"
      },
      "outputs": [],
      "source": [
        "top_prediction = combined_all[combined_all['rank'] <= 1]\n",
        "top_prediction = top_prediction.set_index('product_id').join(product_dept.set_index('product_id'), how = 'inner')\n",
        "top_prediction.reset_index(drop = False, inplace = True)"
      ]
    },
    {
      "cell_type": "code",
      "execution_count": null,
      "metadata": {
        "id": "qFg2kCxZAxH-",
        "outputId": "9d9f9dd5-2dff-49c1-da7e-8d91c100e8b6"
      },
      "outputs": [
        {
          "data": {
            "text/html": [
              "<div>\n",
              "<style scoped>\n",
              "    .dataframe tbody tr th:only-of-type {\n",
              "        vertical-align: middle;\n",
              "    }\n",
              "\n",
              "    .dataframe tbody tr th {\n",
              "        vertical-align: top;\n",
              "    }\n",
              "\n",
              "    .dataframe thead th {\n",
              "        text-align: right;\n",
              "    }\n",
              "</style>\n",
              "<table border=\"1\" class=\"dataframe\">\n",
              "  <thead>\n",
              "    <tr style=\"text-align: right;\">\n",
              "      <th></th>\n",
              "      <th>product_id</th>\n",
              "      <th>prediction</th>\n",
              "      <th>user_id</th>\n",
              "      <th>rank</th>\n",
              "      <th>product_name</th>\n",
              "      <th>aisle_id</th>\n",
              "      <th>department_id</th>\n",
              "      <th>department</th>\n",
              "    </tr>\n",
              "  </thead>\n",
              "  <tbody>\n",
              "    <tr>\n",
              "      <th>0</th>\n",
              "      <td>17</td>\n",
              "      <td>0.129821</td>\n",
              "      <td>76506</td>\n",
              "      <td>1.0</td>\n",
              "      <td>Rendered Duck Fat</td>\n",
              "      <td>35</td>\n",
              "      <td>12</td>\n",
              "      <td>meat seafood</td>\n",
              "    </tr>\n",
              "    <tr>\n",
              "      <th>1</th>\n",
              "      <td>29</td>\n",
              "      <td>0.124381</td>\n",
              "      <td>192241</td>\n",
              "      <td>1.0</td>\n",
              "      <td>Fresh Cut Golden Sweet No Salt Added Whole Ker...</td>\n",
              "      <td>81</td>\n",
              "      <td>15</td>\n",
              "      <td>canned goods</td>\n",
              "    </tr>\n",
              "    <tr>\n",
              "      <th>2</th>\n",
              "      <td>42</td>\n",
              "      <td>0.099601</td>\n",
              "      <td>71305</td>\n",
              "      <td>1.0</td>\n",
              "      <td>Biotin 1000 mcg</td>\n",
              "      <td>47</td>\n",
              "      <td>11</td>\n",
              "      <td>personal care</td>\n",
              "    </tr>\n",
              "    <tr>\n",
              "      <th>3</th>\n",
              "      <td>52</td>\n",
              "      <td>0.144522</td>\n",
              "      <td>69455</td>\n",
              "      <td>1.0</td>\n",
              "      <td>Mirabelle Brut Rose</td>\n",
              "      <td>134</td>\n",
              "      <td>5</td>\n",
              "      <td>alcohol</td>\n",
              "    </tr>\n",
              "    <tr>\n",
              "      <th>4</th>\n",
              "      <td>55</td>\n",
              "      <td>0.155536</td>\n",
              "      <td>90683</td>\n",
              "      <td>1.0</td>\n",
              "      <td>Lasting Color Shampoo</td>\n",
              "      <td>22</td>\n",
              "      <td>11</td>\n",
              "      <td>personal care</td>\n",
              "    </tr>\n",
              "  </tbody>\n",
              "</table>\n",
              "</div>"
            ],
            "text/plain": [
              "   product_id  prediction  user_id  rank  \\\n",
              "0          17    0.129821    76506   1.0   \n",
              "1          29    0.124381   192241   1.0   \n",
              "2          42    0.099601    71305   1.0   \n",
              "3          52    0.144522    69455   1.0   \n",
              "4          55    0.155536    90683   1.0   \n",
              "\n",
              "                                        product_name  aisle_id  department_id  \\\n",
              "0                                  Rendered Duck Fat        35             12   \n",
              "1  Fresh Cut Golden Sweet No Salt Added Whole Ker...        81             15   \n",
              "2                                    Biotin 1000 mcg        47             11   \n",
              "3                                Mirabelle Brut Rose       134              5   \n",
              "4                              Lasting Color Shampoo        22             11   \n",
              "\n",
              "      department  \n",
              "0   meat seafood  \n",
              "1   canned goods  \n",
              "2  personal care  \n",
              "3        alcohol  \n",
              "4  personal care  "
            ]
          },
          "execution_count": 35,
          "metadata": {},
          "output_type": "execute_result"
        }
      ],
      "source": [
        "top_prediction.head()"
      ]
    },
    {
      "cell_type": "code",
      "execution_count": null,
      "metadata": {
        "id": "wCArugkMIE09"
      },
      "outputs": [],
      "source": [
        "product_count = top_prediction[['product_id', 'product_name', 'department', 'user_id']].groupby(['product_id', 'product_name', 'department']).count().rename(columns = {'user_id': 'count'})\n",
        "product_count.reset_index(drop = False, inplace = True)\n",
        "product_count = product_count.sort_values('count', ascending = False)"
      ]
    },
    {
      "cell_type": "code",
      "execution_count": null,
      "metadata": {
        "id": "bdGhzY_iIE0-",
        "outputId": "5dcd290f-8744-4cbd-d252-e8d00e4076b5"
      },
      "outputs": [
        {
          "data": {
            "text/html": [
              "<div>\n",
              "<style scoped>\n",
              "    .dataframe tbody tr th:only-of-type {\n",
              "        vertical-align: middle;\n",
              "    }\n",
              "\n",
              "    .dataframe tbody tr th {\n",
              "        vertical-align: top;\n",
              "    }\n",
              "\n",
              "    .dataframe thead th {\n",
              "        text-align: right;\n",
              "    }\n",
              "</style>\n",
              "<table border=\"1\" class=\"dataframe\">\n",
              "  <thead>\n",
              "    <tr style=\"text-align: right;\">\n",
              "      <th></th>\n",
              "      <th>product_id</th>\n",
              "      <th>product_name</th>\n",
              "      <th>department</th>\n",
              "      <th>count</th>\n",
              "    </tr>\n",
              "  </thead>\n",
              "  <tbody>\n",
              "    <tr>\n",
              "      <th>2769</th>\n",
              "      <td>19660</td>\n",
              "      <td>Spring Water</td>\n",
              "      <td>beverages</td>\n",
              "      <td>67661</td>\n",
              "    </tr>\n",
              "    <tr>\n",
              "      <th>1892</th>\n",
              "      <td>13176</td>\n",
              "      <td>Bag of Organic Bananas</td>\n",
              "      <td>produce</td>\n",
              "      <td>64033</td>\n",
              "    </tr>\n",
              "    <tr>\n",
              "      <th>7049</th>\n",
              "      <td>49235</td>\n",
              "      <td>Organic Half &amp; Half</td>\n",
              "      <td>dairy eggs</td>\n",
              "      <td>15195</td>\n",
              "    </tr>\n",
              "    <tr>\n",
              "      <th>3022</th>\n",
              "      <td>21386</td>\n",
              "      <td>Smartwater</td>\n",
              "      <td>beverages</td>\n",
              "      <td>13013</td>\n",
              "    </tr>\n",
              "    <tr>\n",
              "      <th>21</th>\n",
              "      <td>196</td>\n",
              "      <td>Soda</td>\n",
              "      <td>beverages</td>\n",
              "      <td>8172</td>\n",
              "    </tr>\n",
              "  </tbody>\n",
              "</table>\n",
              "</div>"
            ],
            "text/plain": [
              "      product_id            product_name  department  count\n",
              "2769       19660            Spring Water   beverages  67661\n",
              "1892       13176  Bag of Organic Bananas     produce  64033\n",
              "7049       49235     Organic Half & Half  dairy eggs  15195\n",
              "3022       21386              Smartwater   beverages  13013\n",
              "21           196                    Soda   beverages   8172"
            ]
          },
          "execution_count": 37,
          "metadata": {},
          "output_type": "execute_result"
        }
      ],
      "source": [
        "product_count.head()"
      ]
    },
    {
      "cell_type": "code",
      "execution_count": null,
      "metadata": {
        "id": "5Jbw0iq6A0aT",
        "outputId": "f7b100f4-e08a-4d00-f328-a7ea56bead7e"
      },
      "outputs": [
        {
          "data": {
            "image/png": "[encoded data removed]",
            "text/plain": [
              "<Figure size 500x800 with 1 Axes>"
            ]
          },
          "metadata": {},
          "output_type": "display_data"
        }
      ],
      "source": [
        "import matplotlib.pyplot as plt\n",
        "import seaborn as sns\n",
        "\n",
        "plt.figure(figsize=(5,8))\n",
        "ax = sns.barplot(data = product_count[:10], x='count', y = 'product_name', hue = 'department', orient = 'h',dodge=False)\n",
        "ax.set(xlabel='Frequency of Product Being the Top Recommendation')\n",
        "plt.title('Top 10 Most Recommended Products')\n",
        "plt.legend(loc='lower right')\n",
        "plt.show()"
      ]
    }
  ],
  "metadata": {
    "colab": {
      "collapsed_sections": [
        "pFP9hUMKRacY",
        "yCnglPHaRhiQ",
        "Kgq2awpIgQDZ",
        "TppNq3mWqJ9h",
        "x5xJ2xGW2s76",
        "AJ3h8appo9m_"
      ],
      "provenance": [],
      "include_colab_link": true
    },
    "kernelspec": {
      "display_name": "Python 3 (ipykernel)",
      "language": "python",
      "name": "python3"
    },
    "language_info": {
      "codemirror_mode": {
        "name": "ipython",
        "version": 3
      },
      "file_extension": ".py",
      "mimetype": "text/x-python",
      "name": "python",
      "nbconvert_exporter": "python",
      "pygments_lexer": "ipython3",
      "version": "3.9.13"
    }
  },
  "nbformat": 4,
  "nbformat_minor": 0
}